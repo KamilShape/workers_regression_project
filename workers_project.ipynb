{
  "nbformat": 4,
  "nbformat_minor": 0,
  "metadata": {
    "colab": {
      "provenance": [],
      "authorship_tag": "ABX9TyPKmKeAe+IC45GXBT662zeW",
      "include_colab_link": true
    },
    "kernelspec": {
      "name": "python3",
      "display_name": "Python 3"
    },
    "language_info": {
      "name": "python"
    }
  },
  "cells": [
    {
      "cell_type": "markdown",
      "metadata": {
        "id": "view-in-github",
        "colab_type": "text"
      },
      "source": [
        "<a href=\"https://colab.research.google.com/github/KamilShape/workers_regression_project/blob/main/workers_project.ipynb\" target=\"_parent\"><img src=\"https://colab.research.google.com/assets/colab-badge.svg\" alt=\"Open In Colab\"/></a>"
      ]
    },
    {
      "cell_type": "code",
      "execution_count": 166,
      "metadata": {
        "colab": {
          "base_uri": "https://localhost:8080/"
        },
        "id": "laI-0Ui6E5xt",
        "outputId": "91dc3979-2ddd-4103-f060-1cecd7da64f9"
      },
      "outputs": [
        {
          "output_type": "stream",
          "name": "stdout",
          "text": [
            "fatal: destination path 'data_bases' already exists and is not an empty directory.\n"
          ]
        }
      ],
      "source": [
        "! git clone https://github.com/KamilShape/data_bases.git"
      ]
    },
    {
      "cell_type": "code",
      "source": [
        "import pandas as pd\n",
        "import matplotlib.pyplot as plt\n",
        "import seaborn as sns"
      ],
      "metadata": {
        "id": "miZDcRDlFUJm"
      },
      "execution_count": 167,
      "outputs": []
    },
    {
      "cell_type": "code",
      "source": [
        "workers = pd.read_csv('data_bases/workers.csv')"
      ],
      "metadata": {
        "id": "Jsf9knt7FWDu"
      },
      "execution_count": 168,
      "outputs": []
    },
    {
      "cell_type": "code",
      "source": [
        "workers"
      ],
      "metadata": {
        "colab": {
          "base_uri": "https://localhost:8080/",
          "height": 424
        },
        "id": "7_BuVVICxE6e",
        "outputId": "25b40b21-8c0f-4c75-e2ae-12cbd87d28d6"
      },
      "execution_count": 169,
      "outputs": [
        {
          "output_type": "execute_result",
          "data": {
            "text/plain": [
              "     worker_id first_name    last_name sex nationality      department  \\\n",
              "0            1    Martyna   Kalinowska   F      Poland  Administration   \n",
              "1            2      Iwona   Kalinowska   F      Poland  Administration   \n",
              "2            3      Lidia  Lewandowska   F      Poland  Administration   \n",
              "3            4     Bożena   Kalinowska   F      Poland  Administration   \n",
              "4            5  Anastazja     Kowalska   F      Poland  Administration   \n",
              "..         ...        ...          ...  ..         ...             ...   \n",
              "210        211     Ingrid     Jacobsen   F      Norway           Sales   \n",
              "211        212        Ada         Lund   F      Norway           Sales   \n",
              "212        213     Tobias    Henriksen   M      Norway           Sales   \n",
              "213        214   Johannes    Gundersen   M      Norway           Sales   \n",
              "214        215      Jakob       Haugen   M      Norway           Sales   \n",
              "\n",
              "                      job employment_level month_of_employment  \\\n",
              "0               Executive          Trainee               March   \n",
              "1               Executive              Mid               April   \n",
              "2               Secretary          Manager            December   \n",
              "3               Executive              Mid                July   \n",
              "4               Executive              Mid                June   \n",
              "..                    ...              ...                 ...   \n",
              "210        Sales engineer           Senior                July   \n",
              "211        Sales engineer          Trainee             October   \n",
              "212      Sales consultant           Senior            November   \n",
              "213  Sales representative           Junior            November   \n",
              "214        Sales engineer          Trainee              August   \n",
              "\n",
              "     year_of_employment  salary_gross  \n",
              "0                  2003        4800.0  \n",
              "1                  2012        5800.0  \n",
              "2                  2012        6800.0  \n",
              "3                  2016        5700.0  \n",
              "4                  2013        5800.0  \n",
              "..                  ...           ...  \n",
              "210                2007       12600.0  \n",
              "211                2007        9800.0  \n",
              "212                2005       13400.0  \n",
              "213                2015       11400.0  \n",
              "214                2003       10100.0  \n",
              "\n",
              "[215 rows x 11 columns]"
            ],
            "text/html": [
              "\n",
              "  <div id=\"df-417e8e19-a6df-4e7a-9404-6e67f3254d74\">\n",
              "    <div class=\"colab-df-container\">\n",
              "      <div>\n",
              "<style scoped>\n",
              "    .dataframe tbody tr th:only-of-type {\n",
              "        vertical-align: middle;\n",
              "    }\n",
              "\n",
              "    .dataframe tbody tr th {\n",
              "        vertical-align: top;\n",
              "    }\n",
              "\n",
              "    .dataframe thead th {\n",
              "        text-align: right;\n",
              "    }\n",
              "</style>\n",
              "<table border=\"1\" class=\"dataframe\">\n",
              "  <thead>\n",
              "    <tr style=\"text-align: right;\">\n",
              "      <th></th>\n",
              "      <th>worker_id</th>\n",
              "      <th>first_name</th>\n",
              "      <th>last_name</th>\n",
              "      <th>sex</th>\n",
              "      <th>nationality</th>\n",
              "      <th>department</th>\n",
              "      <th>job</th>\n",
              "      <th>employment_level</th>\n",
              "      <th>month_of_employment</th>\n",
              "      <th>year_of_employment</th>\n",
              "      <th>salary_gross</th>\n",
              "    </tr>\n",
              "  </thead>\n",
              "  <tbody>\n",
              "    <tr>\n",
              "      <th>0</th>\n",
              "      <td>1</td>\n",
              "      <td>Martyna</td>\n",
              "      <td>Kalinowska</td>\n",
              "      <td>F</td>\n",
              "      <td>Poland</td>\n",
              "      <td>Administration</td>\n",
              "      <td>Executive</td>\n",
              "      <td>Trainee</td>\n",
              "      <td>March</td>\n",
              "      <td>2003</td>\n",
              "      <td>4800.0</td>\n",
              "    </tr>\n",
              "    <tr>\n",
              "      <th>1</th>\n",
              "      <td>2</td>\n",
              "      <td>Iwona</td>\n",
              "      <td>Kalinowska</td>\n",
              "      <td>F</td>\n",
              "      <td>Poland</td>\n",
              "      <td>Administration</td>\n",
              "      <td>Executive</td>\n",
              "      <td>Mid</td>\n",
              "      <td>April</td>\n",
              "      <td>2012</td>\n",
              "      <td>5800.0</td>\n",
              "    </tr>\n",
              "    <tr>\n",
              "      <th>2</th>\n",
              "      <td>3</td>\n",
              "      <td>Lidia</td>\n",
              "      <td>Lewandowska</td>\n",
              "      <td>F</td>\n",
              "      <td>Poland</td>\n",
              "      <td>Administration</td>\n",
              "      <td>Secretary</td>\n",
              "      <td>Manager</td>\n",
              "      <td>December</td>\n",
              "      <td>2012</td>\n",
              "      <td>6800.0</td>\n",
              "    </tr>\n",
              "    <tr>\n",
              "      <th>3</th>\n",
              "      <td>4</td>\n",
              "      <td>Bożena</td>\n",
              "      <td>Kalinowska</td>\n",
              "      <td>F</td>\n",
              "      <td>Poland</td>\n",
              "      <td>Administration</td>\n",
              "      <td>Executive</td>\n",
              "      <td>Mid</td>\n",
              "      <td>July</td>\n",
              "      <td>2016</td>\n",
              "      <td>5700.0</td>\n",
              "    </tr>\n",
              "    <tr>\n",
              "      <th>4</th>\n",
              "      <td>5</td>\n",
              "      <td>Anastazja</td>\n",
              "      <td>Kowalska</td>\n",
              "      <td>F</td>\n",
              "      <td>Poland</td>\n",
              "      <td>Administration</td>\n",
              "      <td>Executive</td>\n",
              "      <td>Mid</td>\n",
              "      <td>June</td>\n",
              "      <td>2013</td>\n",
              "      <td>5800.0</td>\n",
              "    </tr>\n",
              "    <tr>\n",
              "      <th>...</th>\n",
              "      <td>...</td>\n",
              "      <td>...</td>\n",
              "      <td>...</td>\n",
              "      <td>...</td>\n",
              "      <td>...</td>\n",
              "      <td>...</td>\n",
              "      <td>...</td>\n",
              "      <td>...</td>\n",
              "      <td>...</td>\n",
              "      <td>...</td>\n",
              "      <td>...</td>\n",
              "    </tr>\n",
              "    <tr>\n",
              "      <th>210</th>\n",
              "      <td>211</td>\n",
              "      <td>Ingrid</td>\n",
              "      <td>Jacobsen</td>\n",
              "      <td>F</td>\n",
              "      <td>Norway</td>\n",
              "      <td>Sales</td>\n",
              "      <td>Sales engineer</td>\n",
              "      <td>Senior</td>\n",
              "      <td>July</td>\n",
              "      <td>2007</td>\n",
              "      <td>12600.0</td>\n",
              "    </tr>\n",
              "    <tr>\n",
              "      <th>211</th>\n",
              "      <td>212</td>\n",
              "      <td>Ada</td>\n",
              "      <td>Lund</td>\n",
              "      <td>F</td>\n",
              "      <td>Norway</td>\n",
              "      <td>Sales</td>\n",
              "      <td>Sales engineer</td>\n",
              "      <td>Trainee</td>\n",
              "      <td>October</td>\n",
              "      <td>2007</td>\n",
              "      <td>9800.0</td>\n",
              "    </tr>\n",
              "    <tr>\n",
              "      <th>212</th>\n",
              "      <td>213</td>\n",
              "      <td>Tobias</td>\n",
              "      <td>Henriksen</td>\n",
              "      <td>M</td>\n",
              "      <td>Norway</td>\n",
              "      <td>Sales</td>\n",
              "      <td>Sales consultant</td>\n",
              "      <td>Senior</td>\n",
              "      <td>November</td>\n",
              "      <td>2005</td>\n",
              "      <td>13400.0</td>\n",
              "    </tr>\n",
              "    <tr>\n",
              "      <th>213</th>\n",
              "      <td>214</td>\n",
              "      <td>Johannes</td>\n",
              "      <td>Gundersen</td>\n",
              "      <td>M</td>\n",
              "      <td>Norway</td>\n",
              "      <td>Sales</td>\n",
              "      <td>Sales representative</td>\n",
              "      <td>Junior</td>\n",
              "      <td>November</td>\n",
              "      <td>2015</td>\n",
              "      <td>11400.0</td>\n",
              "    </tr>\n",
              "    <tr>\n",
              "      <th>214</th>\n",
              "      <td>215</td>\n",
              "      <td>Jakob</td>\n",
              "      <td>Haugen</td>\n",
              "      <td>M</td>\n",
              "      <td>Norway</td>\n",
              "      <td>Sales</td>\n",
              "      <td>Sales engineer</td>\n",
              "      <td>Trainee</td>\n",
              "      <td>August</td>\n",
              "      <td>2003</td>\n",
              "      <td>10100.0</td>\n",
              "    </tr>\n",
              "  </tbody>\n",
              "</table>\n",
              "<p>215 rows × 11 columns</p>\n",
              "</div>\n",
              "      <button class=\"colab-df-convert\" onclick=\"convertToInteractive('df-417e8e19-a6df-4e7a-9404-6e67f3254d74')\"\n",
              "              title=\"Convert this dataframe to an interactive table.\"\n",
              "              style=\"display:none;\">\n",
              "        \n",
              "  <svg xmlns=\"http://www.w3.org/2000/svg\" height=\"24px\"viewBox=\"0 0 24 24\"\n",
              "       width=\"24px\">\n",
              "    <path d=\"M0 0h24v24H0V0z\" fill=\"none\"/>\n",
              "    <path d=\"M18.56 5.44l.94 2.06.94-2.06 2.06-.94-2.06-.94-.94-2.06-.94 2.06-2.06.94zm-11 1L8.5 8.5l.94-2.06 2.06-.94-2.06-.94L8.5 2.5l-.94 2.06-2.06.94zm10 10l.94 2.06.94-2.06 2.06-.94-2.06-.94-.94-2.06-.94 2.06-2.06.94z\"/><path d=\"M17.41 7.96l-1.37-1.37c-.4-.4-.92-.59-1.43-.59-.52 0-1.04.2-1.43.59L10.3 9.45l-7.72 7.72c-.78.78-.78 2.05 0 2.83L4 21.41c.39.39.9.59 1.41.59.51 0 1.02-.2 1.41-.59l7.78-7.78 2.81-2.81c.8-.78.8-2.07 0-2.86zM5.41 20L4 18.59l7.72-7.72 1.47 1.35L5.41 20z\"/>\n",
              "  </svg>\n",
              "      </button>\n",
              "      \n",
              "  <style>\n",
              "    .colab-df-container {\n",
              "      display:flex;\n",
              "      flex-wrap:wrap;\n",
              "      gap: 12px;\n",
              "    }\n",
              "\n",
              "    .colab-df-convert {\n",
              "      background-color: #E8F0FE;\n",
              "      border: none;\n",
              "      border-radius: 50%;\n",
              "      cursor: pointer;\n",
              "      display: none;\n",
              "      fill: #1967D2;\n",
              "      height: 32px;\n",
              "      padding: 0 0 0 0;\n",
              "      width: 32px;\n",
              "    }\n",
              "\n",
              "    .colab-df-convert:hover {\n",
              "      background-color: #E2EBFA;\n",
              "      box-shadow: 0px 1px 2px rgba(60, 64, 67, 0.3), 0px 1px 3px 1px rgba(60, 64, 67, 0.15);\n",
              "      fill: #174EA6;\n",
              "    }\n",
              "\n",
              "    [theme=dark] .colab-df-convert {\n",
              "      background-color: #3B4455;\n",
              "      fill: #D2E3FC;\n",
              "    }\n",
              "\n",
              "    [theme=dark] .colab-df-convert:hover {\n",
              "      background-color: #434B5C;\n",
              "      box-shadow: 0px 1px 3px 1px rgba(0, 0, 0, 0.15);\n",
              "      filter: drop-shadow(0px 1px 2px rgba(0, 0, 0, 0.3));\n",
              "      fill: #FFFFFF;\n",
              "    }\n",
              "  </style>\n",
              "\n",
              "      <script>\n",
              "        const buttonEl =\n",
              "          document.querySelector('#df-417e8e19-a6df-4e7a-9404-6e67f3254d74 button.colab-df-convert');\n",
              "        buttonEl.style.display =\n",
              "          google.colab.kernel.accessAllowed ? 'block' : 'none';\n",
              "\n",
              "        async function convertToInteractive(key) {\n",
              "          const element = document.querySelector('#df-417e8e19-a6df-4e7a-9404-6e67f3254d74');\n",
              "          const dataTable =\n",
              "            await google.colab.kernel.invokeFunction('convertToInteractive',\n",
              "                                                     [key], {});\n",
              "          if (!dataTable) return;\n",
              "\n",
              "          const docLinkHtml = 'Like what you see? Visit the ' +\n",
              "            '<a target=\"_blank\" href=https://colab.research.google.com/notebooks/data_table.ipynb>data table notebook</a>'\n",
              "            + ' to learn more about interactive tables.';\n",
              "          element.innerHTML = '';\n",
              "          dataTable['output_type'] = 'display_data';\n",
              "          await google.colab.output.renderOutput(dataTable, element);\n",
              "          const docLink = document.createElement('div');\n",
              "          docLink.innerHTML = docLinkHtml;\n",
              "          element.appendChild(docLink);\n",
              "        }\n",
              "      </script>\n",
              "    </div>\n",
              "  </div>\n",
              "  "
            ]
          },
          "metadata": {},
          "execution_count": 169
        }
      ]
    },
    {
      "cell_type": "code",
      "source": [
        "#statistic data\n",
        "#mean\n",
        "salary_avg = workers['salary_gross'].mean()\n",
        "#median\n",
        "salary_median = workers['salary_gross'].median()\n",
        "#standard deviation\n",
        "salary_std = workers['salary_gross'].std()\n",
        "#minimum and max salary value\n",
        "salary_min = workers['salary_gross'].min()\n",
        "salary_max = workers['salary_gross'].max()\n",
        "print(f'Mean: {salary_avg}')\n",
        "print(f'Median: {salary_median}')\n",
        "print(f'Standard deviation: {salary_std}')\n",
        "print(f'Max: {salary_max}')\n",
        "print(f'Min: {salary_min}')"
      ],
      "metadata": {
        "colab": {
          "base_uri": "https://localhost:8080/"
        },
        "id": "-nhlnan72DHV",
        "outputId": "6cbf0d98-9cb5-48c1-d2b5-bc2521505031"
      },
      "execution_count": 170,
      "outputs": [
        {
          "output_type": "stream",
          "name": "stdout",
          "text": [
            "Mean: 10841.39534883721\n",
            "Median: 9800.0\n",
            "Standard deviation: 4436.436633889897\n",
            "Max: 24200.0\n",
            "Min: 4800.0\n"
          ]
        }
      ]
    },
    {
      "cell_type": "markdown",
      "source": [
        "Histogram"
      ],
      "metadata": {
        "id": "RzDpv8Kz4pJI"
      }
    },
    {
      "cell_type": "code",
      "source": [
        "plt.hist(workers['salary_gross'])"
      ],
      "metadata": {
        "colab": {
          "base_uri": "https://localhost:8080/",
          "height": 899
        },
        "id": "glPkdm9U4sG2",
        "outputId": "632bdbb5-2e65-40a6-86b4-239c3e9b1838"
      },
      "execution_count": 171,
      "outputs": [
        {
          "output_type": "execute_result",
          "data": {
            "text/plain": [
              "(array([37., 50., 38., 25., 24., 15.,  5., 13.,  4.,  4.]),\n",
              " array([ 4800.,  6740.,  8680., 10620., 12560., 14500., 16440., 18380.,\n",
              "        20320., 22260., 24200.]),\n",
              " <BarContainer object of 10 artists>)"
            ]
          },
          "metadata": {},
          "execution_count": 171
        },
        {
          "output_type": "display_data",
          "data": {
            "text/plain": [
              "<Figure size 1600x1000 with 1 Axes>"
            ],
            "image/png": "[encoded data removed]"
          },
          "metadata": {}
        }
      ]
    },
    {
      "cell_type": "code",
      "source": [
        "from scipy import stats"
      ],
      "metadata": {
        "id": "5sTnPFz668P-"
      },
      "execution_count": 172,
      "outputs": []
    },
    {
      "cell_type": "code",
      "source": [
        "#shapiro - wilka test\n",
        "shapiro_test = stats.shapiro(workers['salary_gross'])\n",
        "shapiro_test.pvalue\n",
        "#p<0,05 - no bell curve"
      ],
      "metadata": {
        "colab": {
          "base_uri": "https://localhost:8080/"
        },
        "id": "emuTs0xz6-Fw",
        "outputId": "d3ad95e1-ed69-46ba-e5ae-9e5588551923"
      },
      "execution_count": 173,
      "outputs": [
        {
          "output_type": "execute_result",
          "data": {
            "text/plain": [
              "1.7257721640628887e-10"
            ]
          },
          "metadata": {},
          "execution_count": 173
        }
      ]
    },
    {
      "cell_type": "markdown",
      "source": [
        "Changing data types"
      ],
      "metadata": {
        "id": "diO_psukJHkg"
      }
    },
    {
      "cell_type": "code",
      "source": [
        "#changing [year_of_employment] to year\n",
        "workers['year_of_employment'] = workers['year_of_employment'].apply(lambda x: pd.to_datetime(x, format='%Y').year)"
      ],
      "metadata": {
        "id": "CZgURTl3F2IR"
      },
      "execution_count": 174,
      "outputs": []
    },
    {
      "cell_type": "markdown",
      "source": [
        "Figures"
      ],
      "metadata": {
        "id": "IVX-H3i2OdpH"
      }
    },
    {
      "cell_type": "code",
      "source": [
        "#functions \n",
        "def mean_group_function(group_column, mean_column):\n",
        "  df = pd.DataFrame(workers.groupby([group_column])[mean_column].mean()).reset_index().sort_values(by=mean_column, ascending=False)\n",
        "  return df\n",
        "\n",
        "def draw_bar_figure(data, x, y, size_x, size_y, color, alpha, title, y_label, lim=False, rot=False, **kwargs):\n",
        "  fig, ax = plt.subplots(figsize=(size_x, size_y))\n",
        "  ax.bar(data[x], data[y], color = color, alpha = alpha)\n",
        "  ax.set_title(title)\n",
        "  # ax.set_xlabel(x_label)\n",
        "  ax.set_ylabel(y_label)\n",
        "  if rot:\n",
        "     ax.xaxis.set_tick_params(rotation=90)\n",
        "  if lim:\n",
        "    ax.set_ylim(kwargs['low_lim'], kwargs['up_lim'])\n"
      ],
      "metadata": {
        "id": "P8q3FXZkVJjy"
      },
      "execution_count": 175,
      "outputs": []
    },
    {
      "cell_type": "code",
      "source": [
        "#set fig style\n",
        "plt.style.use('ggplot')"
      ],
      "metadata": {
        "id": "nMfaq5EooROj"
      },
      "execution_count": 176,
      "outputs": []
    },
    {
      "cell_type": "code",
      "source": [
        "#average salary by country\n",
        "mean_salary_by_country = mean_group_function('nationality', 'salary_gross')\n",
        "draw_bar_figure(mean_salary_by_country, 'nationality', 'salary_gross', 4,6, 'r', 0.5, 'Average salary by country','Gross salary (EUR)', lim=True, low_lim = 0, up_lim =13000)"
      ],
      "metadata": {
        "colab": {
          "base_uri": "https://localhost:8080/",
          "height": 546
        },
        "id": "sIwHDpj-PGdC",
        "outputId": "82a89385-0766-4a9e-a0c0-aaea33d87e57"
      },
      "execution_count": 177,
      "outputs": [
        {
          "output_type": "display_data",
          "data": {
            "text/plain": [
              "<Figure size 400x600 with 1 Axes>"
            ],
            "image/png": "[encoded data removed]"
          },
          "metadata": {}
        }
      ]
    },
    {
      "cell_type": "code",
      "source": [
        "#average salary by department\n",
        "mean_salary_by_department = mean_group_function('department', 'salary_gross')\n",
        "draw_bar_figure(mean_salary_by_department, 'department', 'salary_gross', 8,6,'m', 0.3, 'Average salary by department', 'Gross salary (EUR)')"
      ],
      "metadata": {
        "colab": {
          "base_uri": "https://localhost:8080/",
          "height": 546
        },
        "id": "72eX56BrU-qy",
        "outputId": "bf8c067b-ae91-45ac-edbc-aac6bb3cf6ed"
      },
      "execution_count": 178,
      "outputs": [
        {
          "output_type": "display_data",
          "data": {
            "text/plain": [
              "<Figure size 800x600 with 1 Axes>"
            ],
            "image/png": "[encoded data removed]"
          },
          "metadata": {}
        }
      ]
    },
    {
      "cell_type": "code",
      "source": [
        "#average salary by employment_level\n",
        "mean_salary_by_employment_level = mean_group_function('employment_level', 'salary_gross')\n",
        "draw_bar_figure(mean_salary_by_employment_level, 'employment_level', 'salary_gross', 8,6,'k', 0.5, 'Average salary by employment level', 'Gross salary (EUR)', low_lim = 4000, up_lim =15000)"
      ],
      "metadata": {
        "colab": {
          "base_uri": "https://localhost:8080/",
          "height": 546
        },
        "id": "J1GHY9BvoCnL",
        "outputId": "d662248a-d4e7-46a0-d38f-f2359cd55ca4"
      },
      "execution_count": 179,
      "outputs": [
        {
          "output_type": "display_data",
          "data": {
            "text/plain": [
              "<Figure size 800x600 with 1 Axes>"
            ],
            "image/png": "[encoded data removed]"
          },
          "metadata": {}
        }
      ]
    },
    {
      "cell_type": "code",
      "source": [
        "#average salary by job\n",
        "mean_salary_by_job = mean_group_function('job', 'salary_gross')\n",
        "draw_bar_figure(mean_salary_by_job, 'job', 'salary_gross', 8,6,'g', 0.5, 'Average salary by job','Gross salary (EUR)', rot=True)"
      ],
      "metadata": {
        "colab": {
          "base_uri": "https://localhost:8080/",
          "height": 697
        },
        "id": "OVAwuBgUp-Md",
        "outputId": "430cdcd6-5181-4dd4-bd0a-5e1817b97daa"
      },
      "execution_count": 180,
      "outputs": [
        {
          "output_type": "display_data",
          "data": {
            "text/plain": [
              "<Figure size 800x600 with 1 Axes>"
            ],
            "image/png": "[encoded data removed]"
          },
          "metadata": {}
        }
      ]
    },
    {
      "cell_type": "code",
      "source": [
        "#average salary by sex\n",
        "mean_salary_by_sex = mean_group_function('sex', 'salary_gross')\n",
        "draw_bar_figure(mean_salary_by_sex, 'sex', 'salary_gross', 2,6,'goldenrod', 0.5, 'Average salary by sex','Gross salary (EUR)')"
      ],
      "metadata": {
        "colab": {
          "base_uri": "https://localhost:8080/",
          "height": 546
        },
        "id": "tU9_f74lrvm8",
        "outputId": "37935504-090e-4d3b-b045-93446e134db4"
      },
      "execution_count": 181,
      "outputs": [
        {
          "output_type": "display_data",
          "data": {
            "text/plain": [
              "<Figure size 200x600 with 1 Axes>"
            ],
            "image/png": "[encoded data removed]"
          },
          "metadata": {}
        }
      ]
    },
    {
      "cell_type": "markdown",
      "source": [
        "Corrected data\n"
      ],
      "metadata": {
        "id": "ntHeddrDL29R"
      }
    },
    {
      "cell_type": "code",
      "source": [
        "#outliners\n",
        "# upper_value = salary_avg + 3*salary_std\n",
        "# lower_value = salary_avg - 3*salary_std\n",
        "\n",
        "upper_quantile = workers['salary_gross'].quantile(0.9)\n",
        "lower_quantile = workers['salary_gross'].quantile(0.1)\n",
        "workers2 = workers[(workers['salary_gross'] > lower_quantile) & (workers['salary_gross'] < upper_quantile)]\n",
        "workers2"
      ],
      "metadata": {
        "id": "o5fUUWaD8IUj",
        "colab": {
          "base_uri": "https://localhost:8080/",
          "height": 424
        },
        "outputId": "075cbf3d-7809-40f2-9f41-6800aa74edba"
      },
      "execution_count": 182,
      "outputs": [
        {
          "output_type": "execute_result",
          "data": {
            "text/plain": [
              "     worker_id first_name    last_name sex nationality      department  \\\n",
              "2            3      Lidia  Lewandowska   F      Poland  Administration   \n",
              "14          15     Violet       Murray   F     England  Administration   \n",
              "15          16      Daisy       Rimmer   F     England  Administration   \n",
              "16          17     Olivia       Murray   F     England  Administration   \n",
              "17          18   Isabelle        Walsh   F     England  Administration   \n",
              "..         ...        ...          ...  ..         ...             ...   \n",
              "210        211     Ingrid     Jacobsen   F      Norway           Sales   \n",
              "211        212        Ada         Lund   F      Norway           Sales   \n",
              "212        213     Tobias    Henriksen   M      Norway           Sales   \n",
              "213        214   Johannes    Gundersen   M      Norway           Sales   \n",
              "214        215      Jakob       Haugen   M      Norway           Sales   \n",
              "\n",
              "                      job employment_level month_of_employment  \\\n",
              "2               Secretary          Manager            December   \n",
              "14         Administrative           Senior            February   \n",
              "15              Secretary          Manager            December   \n",
              "16         Administrative              Mid             January   \n",
              "17         Administrative              Mid              August   \n",
              "..                    ...              ...                 ...   \n",
              "210        Sales engineer           Senior                July   \n",
              "211        Sales engineer          Trainee             October   \n",
              "212      Sales consultant           Senior            November   \n",
              "213  Sales representative           Junior            November   \n",
              "214        Sales engineer          Trainee              August   \n",
              "\n",
              "     year_of_employment  salary_gross  \n",
              "2                  2012        6800.0  \n",
              "14                 2010        7400.0  \n",
              "15                 2016        7700.0  \n",
              "16                 2003        6500.0  \n",
              "17                 2019        6800.0  \n",
              "..                  ...           ...  \n",
              "210                2007       12600.0  \n",
              "211                2007        9800.0  \n",
              "212                2005       13400.0  \n",
              "213                2015       11400.0  \n",
              "214                2003       10100.0  \n",
              "\n",
              "[169 rows x 11 columns]"
            ],
            "text/html": [
              "\n",
              "  <div id=\"df-2c9a1f7a-2795-4b86-b220-5c0be934d191\">\n",
              "    <div class=\"colab-df-container\">\n",
              "      <div>\n",
              "<style scoped>\n",
              "    .dataframe tbody tr th:only-of-type {\n",
              "        vertical-align: middle;\n",
              "    }\n",
              "\n",
              "    .dataframe tbody tr th {\n",
              "        vertical-align: top;\n",
              "    }\n",
              "\n",
              "    .dataframe thead th {\n",
              "        text-align: right;\n",
              "    }\n",
              "</style>\n",
              "<table border=\"1\" class=\"dataframe\">\n",
              "  <thead>\n",
              "    <tr style=\"text-align: right;\">\n",
              "      <th></th>\n",
              "      <th>worker_id</th>\n",
              "      <th>first_name</th>\n",
              "      <th>last_name</th>\n",
              "      <th>sex</th>\n",
              "      <th>nationality</th>\n",
              "      <th>department</th>\n",
              "      <th>job</th>\n",
              "      <th>employment_level</th>\n",
              "      <th>month_of_employment</th>\n",
              "      <th>year_of_employment</th>\n",
              "      <th>salary_gross</th>\n",
              "    </tr>\n",
              "  </thead>\n",
              "  <tbody>\n",
              "    <tr>\n",
              "      <th>2</th>\n",
              "      <td>3</td>\n",
              "      <td>Lidia</td>\n",
              "      <td>Lewandowska</td>\n",
              "      <td>F</td>\n",
              "      <td>Poland</td>\n",
              "      <td>Administration</td>\n",
              "      <td>Secretary</td>\n",
              "      <td>Manager</td>\n",
              "      <td>December</td>\n",
              "      <td>2012</td>\n",
              "      <td>6800.0</td>\n",
              "    </tr>\n",
              "    <tr>\n",
              "      <th>14</th>\n",
              "      <td>15</td>\n",
              "      <td>Violet</td>\n",
              "      <td>Murray</td>\n",
              "      <td>F</td>\n",
              "      <td>England</td>\n",
              "      <td>Administration</td>\n",
              "      <td>Administrative</td>\n",
              "      <td>Senior</td>\n",
              "      <td>February</td>\n",
              "      <td>2010</td>\n",
              "      <td>7400.0</td>\n",
              "    </tr>\n",
              "    <tr>\n",
              "      <th>15</th>\n",
              "      <td>16</td>\n",
              "      <td>Daisy</td>\n",
              "      <td>Rimmer</td>\n",
              "      <td>F</td>\n",
              "      <td>England</td>\n",
              "      <td>Administration</td>\n",
              "      <td>Secretary</td>\n",
              "      <td>Manager</td>\n",
              "      <td>December</td>\n",
              "      <td>2016</td>\n",
              "      <td>7700.0</td>\n",
              "    </tr>\n",
              "    <tr>\n",
              "      <th>16</th>\n",
              "      <td>17</td>\n",
              "      <td>Olivia</td>\n",
              "      <td>Murray</td>\n",
              "      <td>F</td>\n",
              "      <td>England</td>\n",
              "      <td>Administration</td>\n",
              "      <td>Administrative</td>\n",
              "      <td>Mid</td>\n",
              "      <td>January</td>\n",
              "      <td>2003</td>\n",
              "      <td>6500.0</td>\n",
              "    </tr>\n",
              "    <tr>\n",
              "      <th>17</th>\n",
              "      <td>18</td>\n",
              "      <td>Isabelle</td>\n",
              "      <td>Walsh</td>\n",
              "      <td>F</td>\n",
              "      <td>England</td>\n",
              "      <td>Administration</td>\n",
              "      <td>Administrative</td>\n",
              "      <td>Mid</td>\n",
              "      <td>August</td>\n",
              "      <td>2019</td>\n",
              "      <td>6800.0</td>\n",
              "    </tr>\n",
              "    <tr>\n",
              "      <th>...</th>\n",
              "      <td>...</td>\n",
              "      <td>...</td>\n",
              "      <td>...</td>\n",
              "      <td>...</td>\n",
              "      <td>...</td>\n",
              "      <td>...</td>\n",
              "      <td>...</td>\n",
              "      <td>...</td>\n",
              "      <td>...</td>\n",
              "      <td>...</td>\n",
              "      <td>...</td>\n",
              "    </tr>\n",
              "    <tr>\n",
              "      <th>210</th>\n",
              "      <td>211</td>\n",
              "      <td>Ingrid</td>\n",
              "      <td>Jacobsen</td>\n",
              "      <td>F</td>\n",
              "      <td>Norway</td>\n",
              "      <td>Sales</td>\n",
              "      <td>Sales engineer</td>\n",
              "      <td>Senior</td>\n",
              "      <td>July</td>\n",
              "      <td>2007</td>\n",
              "      <td>12600.0</td>\n",
              "    </tr>\n",
              "    <tr>\n",
              "      <th>211</th>\n",
              "      <td>212</td>\n",
              "      <td>Ada</td>\n",
              "      <td>Lund</td>\n",
              "      <td>F</td>\n",
              "      <td>Norway</td>\n",
              "      <td>Sales</td>\n",
              "      <td>Sales engineer</td>\n",
              "      <td>Trainee</td>\n",
              "      <td>October</td>\n",
              "      <td>2007</td>\n",
              "      <td>9800.0</td>\n",
              "    </tr>\n",
              "    <tr>\n",
              "      <th>212</th>\n",
              "      <td>213</td>\n",
              "      <td>Tobias</td>\n",
              "      <td>Henriksen</td>\n",
              "      <td>M</td>\n",
              "      <td>Norway</td>\n",
              "      <td>Sales</td>\n",
              "      <td>Sales consultant</td>\n",
              "      <td>Senior</td>\n",
              "      <td>November</td>\n",
              "      <td>2005</td>\n",
              "      <td>13400.0</td>\n",
              "    </tr>\n",
              "    <tr>\n",
              "      <th>213</th>\n",
              "      <td>214</td>\n",
              "      <td>Johannes</td>\n",
              "      <td>Gundersen</td>\n",
              "      <td>M</td>\n",
              "      <td>Norway</td>\n",
              "      <td>Sales</td>\n",
              "      <td>Sales representative</td>\n",
              "      <td>Junior</td>\n",
              "      <td>November</td>\n",
              "      <td>2015</td>\n",
              "      <td>11400.0</td>\n",
              "    </tr>\n",
              "    <tr>\n",
              "      <th>214</th>\n",
              "      <td>215</td>\n",
              "      <td>Jakob</td>\n",
              "      <td>Haugen</td>\n",
              "      <td>M</td>\n",
              "      <td>Norway</td>\n",
              "      <td>Sales</td>\n",
              "      <td>Sales engineer</td>\n",
              "      <td>Trainee</td>\n",
              "      <td>August</td>\n",
              "      <td>2003</td>\n",
              "      <td>10100.0</td>\n",
              "    </tr>\n",
              "  </tbody>\n",
              "</table>\n",
              "<p>169 rows × 11 columns</p>\n",
              "</div>\n",
              "      <button class=\"colab-df-convert\" onclick=\"convertToInteractive('df-2c9a1f7a-2795-4b86-b220-5c0be934d191')\"\n",
              "              title=\"Convert this dataframe to an interactive table.\"\n",
              "              style=\"display:none;\">\n",
              "        \n",
              "  <svg xmlns=\"http://www.w3.org/2000/svg\" height=\"24px\"viewBox=\"0 0 24 24\"\n",
              "       width=\"24px\">\n",
              "    <path d=\"M0 0h24v24H0V0z\" fill=\"none\"/>\n",
              "    <path d=\"M18.56 5.44l.94 2.06.94-2.06 2.06-.94-2.06-.94-.94-2.06-.94 2.06-2.06.94zm-11 1L8.5 8.5l.94-2.06 2.06-.94-2.06-.94L8.5 2.5l-.94 2.06-2.06.94zm10 10l.94 2.06.94-2.06 2.06-.94-2.06-.94-.94-2.06-.94 2.06-2.06.94z\"/><path d=\"M17.41 7.96l-1.37-1.37c-.4-.4-.92-.59-1.43-.59-.52 0-1.04.2-1.43.59L10.3 9.45l-7.72 7.72c-.78.78-.78 2.05 0 2.83L4 21.41c.39.39.9.59 1.41.59.51 0 1.02-.2 1.41-.59l7.78-7.78 2.81-2.81c.8-.78.8-2.07 0-2.86zM5.41 20L4 18.59l7.72-7.72 1.47 1.35L5.41 20z\"/>\n",
              "  </svg>\n",
              "      </button>\n",
              "      \n",
              "  <style>\n",
              "    .colab-df-container {\n",
              "      display:flex;\n",
              "      flex-wrap:wrap;\n",
              "      gap: 12px;\n",
              "    }\n",
              "\n",
              "    .colab-df-convert {\n",
              "      background-color: #E8F0FE;\n",
              "      border: none;\n",
              "      border-radius: 50%;\n",
              "      cursor: pointer;\n",
              "      display: none;\n",
              "      fill: #1967D2;\n",
              "      height: 32px;\n",
              "      padding: 0 0 0 0;\n",
              "      width: 32px;\n",
              "    }\n",
              "\n",
              "    .colab-df-convert:hover {\n",
              "      background-color: #E2EBFA;\n",
              "      box-shadow: 0px 1px 2px rgba(60, 64, 67, 0.3), 0px 1px 3px 1px rgba(60, 64, 67, 0.15);\n",
              "      fill: #174EA6;\n",
              "    }\n",
              "\n",
              "    [theme=dark] .colab-df-convert {\n",
              "      background-color: #3B4455;\n",
              "      fill: #D2E3FC;\n",
              "    }\n",
              "\n",
              "    [theme=dark] .colab-df-convert:hover {\n",
              "      background-color: #434B5C;\n",
              "      box-shadow: 0px 1px 3px 1px rgba(0, 0, 0, 0.15);\n",
              "      filter: drop-shadow(0px 1px 2px rgba(0, 0, 0, 0.3));\n",
              "      fill: #FFFFFF;\n",
              "    }\n",
              "  </style>\n",
              "\n",
              "      <script>\n",
              "        const buttonEl =\n",
              "          document.querySelector('#df-2c9a1f7a-2795-4b86-b220-5c0be934d191 button.colab-df-convert');\n",
              "        buttonEl.style.display =\n",
              "          google.colab.kernel.accessAllowed ? 'block' : 'none';\n",
              "\n",
              "        async function convertToInteractive(key) {\n",
              "          const element = document.querySelector('#df-2c9a1f7a-2795-4b86-b220-5c0be934d191');\n",
              "          const dataTable =\n",
              "            await google.colab.kernel.invokeFunction('convertToInteractive',\n",
              "                                                     [key], {});\n",
              "          if (!dataTable) return;\n",
              "\n",
              "          const docLinkHtml = 'Like what you see? Visit the ' +\n",
              "            '<a target=\"_blank\" href=https://colab.research.google.com/notebooks/data_table.ipynb>data table notebook</a>'\n",
              "            + ' to learn more about interactive tables.';\n",
              "          element.innerHTML = '';\n",
              "          dataTable['output_type'] = 'display_data';\n",
              "          await google.colab.output.renderOutput(dataTable, element);\n",
              "          const docLink = document.createElement('div');\n",
              "          docLink.innerHTML = docLinkHtml;\n",
              "          element.appendChild(docLink);\n",
              "        }\n",
              "      </script>\n",
              "    </div>\n",
              "  </div>\n",
              "  "
            ]
          },
          "metadata": {},
          "execution_count": 182
        }
      ]
    },
    {
      "cell_type": "markdown",
      "source": [
        "Histogram after using quantiles"
      ],
      "metadata": {
        "id": "ToX6ww8pMl-c"
      }
    },
    {
      "cell_type": "code",
      "source": [
        "sns.set_style(\"whitegrid\")\n",
        "h_plot = sns.distplot(workers2['salary_gross'])\n",
        "plt.rcParams['figure.figsize'] = (16, 10)\n",
        "h_plot.set_xlabel('Gross salary')"
      ],
      "metadata": {
        "colab": {
          "base_uri": "https://localhost:8080/",
          "height": 1000
        },
        "id": "Z-jncz6JRV01",
        "outputId": "1a94962c-5d5b-43a8-94e6-5566b0fd34a8"
      },
      "execution_count": 183,
      "outputs": [
        {
          "output_type": "stream",
          "name": "stderr",
          "text": [
            "<ipython-input-183-d90be968e7ae>:2: UserWarning: \n",
            "\n",
            "`distplot` is a deprecated function and will be removed in seaborn v0.14.0.\n",
            "\n",
            "Please adapt your code to use either `displot` (a figure-level function with\n",
            "similar flexibility) or `histplot` (an axes-level function for histograms).\n",
            "\n",
            "For a guide to updating your code to use the new functions, please see\n",
            "https://gist.github.com/mwaskom/de44147ed2974457ad6372750bbe5751\n",
            "\n",
            "  h_plot = sns.distplot(workers2['salary_gross'])\n"
          ]
        },
        {
          "output_type": "execute_result",
          "data": {
            "text/plain": [
              "Text(0.5, 0, 'Gross salary')"
            ]
          },
          "metadata": {},
          "execution_count": 183
        },
        {
          "output_type": "display_data",
          "data": {
            "text/plain": [
              "<Figure size 1600x1000 with 1 Axes>"
            ],
            "image/png": "[encoded data removed]"
          },
          "metadata": {}
        }
      ]
    },
    {
      "cell_type": "markdown",
      "source": [
        "Matching data to prediction models"
      ],
      "metadata": {
        "id": "GBlFXf4SSWHh"
      }
    },
    {
      "cell_type": "code",
      "source": [
        "workers2.iloc[:, 3:10]"
      ],
      "metadata": {
        "colab": {
          "base_uri": "https://localhost:8080/",
          "height": 424
        },
        "id": "Gh9lZfizUEYv",
        "outputId": "8bb91768-9bee-46f1-b4c2-90d83e0021d4"
      },
      "execution_count": 184,
      "outputs": [
        {
          "output_type": "execute_result",
          "data": {
            "text/plain": [
              "    sex nationality      department                   job employment_level  \\\n",
              "2     F      Poland  Administration             Secretary          Manager   \n",
              "14    F     England  Administration        Administrative           Senior   \n",
              "15    F     England  Administration             Secretary          Manager   \n",
              "16    F     England  Administration        Administrative              Mid   \n",
              "17    F     England  Administration        Administrative              Mid   \n",
              "..   ..         ...             ...                   ...              ...   \n",
              "210   F      Norway           Sales        Sales engineer           Senior   \n",
              "211   F      Norway           Sales        Sales engineer          Trainee   \n",
              "212   M      Norway           Sales      Sales consultant           Senior   \n",
              "213   M      Norway           Sales  Sales representative           Junior   \n",
              "214   M      Norway           Sales        Sales engineer          Trainee   \n",
              "\n",
              "    month_of_employment  year_of_employment  \n",
              "2              December                2012  \n",
              "14             February                2010  \n",
              "15             December                2016  \n",
              "16              January                2003  \n",
              "17               August                2019  \n",
              "..                  ...                 ...  \n",
              "210                July                2007  \n",
              "211             October                2007  \n",
              "212            November                2005  \n",
              "213            November                2015  \n",
              "214              August                2003  \n",
              "\n",
              "[169 rows x 7 columns]"
            ],
            "text/html": [
              "\n",
              "  <div id=\"df-dfecba1e-a1cc-4ed3-b0d4-3409dcb91cd3\">\n",
              "    <div class=\"colab-df-container\">\n",
              "      <div>\n",
              "<style scoped>\n",
              "    .dataframe tbody tr th:only-of-type {\n",
              "        vertical-align: middle;\n",
              "    }\n",
              "\n",
              "    .dataframe tbody tr th {\n",
              "        vertical-align: top;\n",
              "    }\n",
              "\n",
              "    .dataframe thead th {\n",
              "        text-align: right;\n",
              "    }\n",
              "</style>\n",
              "<table border=\"1\" class=\"dataframe\">\n",
              "  <thead>\n",
              "    <tr style=\"text-align: right;\">\n",
              "      <th></th>\n",
              "      <th>sex</th>\n",
              "      <th>nationality</th>\n",
              "      <th>department</th>\n",
              "      <th>job</th>\n",
              "      <th>employment_level</th>\n",
              "      <th>month_of_employment</th>\n",
              "      <th>year_of_employment</th>\n",
              "    </tr>\n",
              "  </thead>\n",
              "  <tbody>\n",
              "    <tr>\n",
              "      <th>2</th>\n",
              "      <td>F</td>\n",
              "      <td>Poland</td>\n",
              "      <td>Administration</td>\n",
              "      <td>Secretary</td>\n",
              "      <td>Manager</td>\n",
              "      <td>December</td>\n",
              "      <td>2012</td>\n",
              "    </tr>\n",
              "    <tr>\n",
              "      <th>14</th>\n",
              "      <td>F</td>\n",
              "      <td>England</td>\n",
              "      <td>Administration</td>\n",
              "      <td>Administrative</td>\n",
              "      <td>Senior</td>\n",
              "      <td>February</td>\n",
              "      <td>2010</td>\n",
              "    </tr>\n",
              "    <tr>\n",
              "      <th>15</th>\n",
              "      <td>F</td>\n",
              "      <td>England</td>\n",
              "      <td>Administration</td>\n",
              "      <td>Secretary</td>\n",
              "      <td>Manager</td>\n",
              "      <td>December</td>\n",
              "      <td>2016</td>\n",
              "    </tr>\n",
              "    <tr>\n",
              "      <th>16</th>\n",
              "      <td>F</td>\n",
              "      <td>England</td>\n",
              "      <td>Administration</td>\n",
              "      <td>Administrative</td>\n",
              "      <td>Mid</td>\n",
              "      <td>January</td>\n",
              "      <td>2003</td>\n",
              "    </tr>\n",
              "    <tr>\n",
              "      <th>17</th>\n",
              "      <td>F</td>\n",
              "      <td>England</td>\n",
              "      <td>Administration</td>\n",
              "      <td>Administrative</td>\n",
              "      <td>Mid</td>\n",
              "      <td>August</td>\n",
              "      <td>2019</td>\n",
              "    </tr>\n",
              "    <tr>\n",
              "      <th>...</th>\n",
              "      <td>...</td>\n",
              "      <td>...</td>\n",
              "      <td>...</td>\n",
              "      <td>...</td>\n",
              "      <td>...</td>\n",
              "      <td>...</td>\n",
              "      <td>...</td>\n",
              "    </tr>\n",
              "    <tr>\n",
              "      <th>210</th>\n",
              "      <td>F</td>\n",
              "      <td>Norway</td>\n",
              "      <td>Sales</td>\n",
              "      <td>Sales engineer</td>\n",
              "      <td>Senior</td>\n",
              "      <td>July</td>\n",
              "      <td>2007</td>\n",
              "    </tr>\n",
              "    <tr>\n",
              "      <th>211</th>\n",
              "      <td>F</td>\n",
              "      <td>Norway</td>\n",
              "      <td>Sales</td>\n",
              "      <td>Sales engineer</td>\n",
              "      <td>Trainee</td>\n",
              "      <td>October</td>\n",
              "      <td>2007</td>\n",
              "    </tr>\n",
              "    <tr>\n",
              "      <th>212</th>\n",
              "      <td>M</td>\n",
              "      <td>Norway</td>\n",
              "      <td>Sales</td>\n",
              "      <td>Sales consultant</td>\n",
              "      <td>Senior</td>\n",
              "      <td>November</td>\n",
              "      <td>2005</td>\n",
              "    </tr>\n",
              "    <tr>\n",
              "      <th>213</th>\n",
              "      <td>M</td>\n",
              "      <td>Norway</td>\n",
              "      <td>Sales</td>\n",
              "      <td>Sales representative</td>\n",
              "      <td>Junior</td>\n",
              "      <td>November</td>\n",
              "      <td>2015</td>\n",
              "    </tr>\n",
              "    <tr>\n",
              "      <th>214</th>\n",
              "      <td>M</td>\n",
              "      <td>Norway</td>\n",
              "      <td>Sales</td>\n",
              "      <td>Sales engineer</td>\n",
              "      <td>Trainee</td>\n",
              "      <td>August</td>\n",
              "      <td>2003</td>\n",
              "    </tr>\n",
              "  </tbody>\n",
              "</table>\n",
              "<p>169 rows × 7 columns</p>\n",
              "</div>\n",
              "      <button class=\"colab-df-convert\" onclick=\"convertToInteractive('df-dfecba1e-a1cc-4ed3-b0d4-3409dcb91cd3')\"\n",
              "              title=\"Convert this dataframe to an interactive table.\"\n",
              "              style=\"display:none;\">\n",
              "        \n",
              "  <svg xmlns=\"http://www.w3.org/2000/svg\" height=\"24px\"viewBox=\"0 0 24 24\"\n",
              "       width=\"24px\">\n",
              "    <path d=\"M0 0h24v24H0V0z\" fill=\"none\"/>\n",
              "    <path d=\"M18.56 5.44l.94 2.06.94-2.06 2.06-.94-2.06-.94-.94-2.06-.94 2.06-2.06.94zm-11 1L8.5 8.5l.94-2.06 2.06-.94-2.06-.94L8.5 2.5l-.94 2.06-2.06.94zm10 10l.94 2.06.94-2.06 2.06-.94-2.06-.94-.94-2.06-.94 2.06-2.06.94z\"/><path d=\"M17.41 7.96l-1.37-1.37c-.4-.4-.92-.59-1.43-.59-.52 0-1.04.2-1.43.59L10.3 9.45l-7.72 7.72c-.78.78-.78 2.05 0 2.83L4 21.41c.39.39.9.59 1.41.59.51 0 1.02-.2 1.41-.59l7.78-7.78 2.81-2.81c.8-.78.8-2.07 0-2.86zM5.41 20L4 18.59l7.72-7.72 1.47 1.35L5.41 20z\"/>\n",
              "  </svg>\n",
              "      </button>\n",
              "      \n",
              "  <style>\n",
              "    .colab-df-container {\n",
              "      display:flex;\n",
              "      flex-wrap:wrap;\n",
              "      gap: 12px;\n",
              "    }\n",
              "\n",
              "    .colab-df-convert {\n",
              "      background-color: #E8F0FE;\n",
              "      border: none;\n",
              "      border-radius: 50%;\n",
              "      cursor: pointer;\n",
              "      display: none;\n",
              "      fill: #1967D2;\n",
              "      height: 32px;\n",
              "      padding: 0 0 0 0;\n",
              "      width: 32px;\n",
              "    }\n",
              "\n",
              "    .colab-df-convert:hover {\n",
              "      background-color: #E2EBFA;\n",
              "      box-shadow: 0px 1px 2px rgba(60, 64, 67, 0.3), 0px 1px 3px 1px rgba(60, 64, 67, 0.15);\n",
              "      fill: #174EA6;\n",
              "    }\n",
              "\n",
              "    [theme=dark] .colab-df-convert {\n",
              "      background-color: #3B4455;\n",
              "      fill: #D2E3FC;\n",
              "    }\n",
              "\n",
              "    [theme=dark] .colab-df-convert:hover {\n",
              "      background-color: #434B5C;\n",
              "      box-shadow: 0px 1px 3px 1px rgba(0, 0, 0, 0.15);\n",
              "      filter: drop-shadow(0px 1px 2px rgba(0, 0, 0, 0.3));\n",
              "      fill: #FFFFFF;\n",
              "    }\n",
              "  </style>\n",
              "\n",
              "      <script>\n",
              "        const buttonEl =\n",
              "          document.querySelector('#df-dfecba1e-a1cc-4ed3-b0d4-3409dcb91cd3 button.colab-df-convert');\n",
              "        buttonEl.style.display =\n",
              "          google.colab.kernel.accessAllowed ? 'block' : 'none';\n",
              "\n",
              "        async function convertToInteractive(key) {\n",
              "          const element = document.querySelector('#df-dfecba1e-a1cc-4ed3-b0d4-3409dcb91cd3');\n",
              "          const dataTable =\n",
              "            await google.colab.kernel.invokeFunction('convertToInteractive',\n",
              "                                                     [key], {});\n",
              "          if (!dataTable) return;\n",
              "\n",
              "          const docLinkHtml = 'Like what you see? Visit the ' +\n",
              "            '<a target=\"_blank\" href=https://colab.research.google.com/notebooks/data_table.ipynb>data table notebook</a>'\n",
              "            + ' to learn more about interactive tables.';\n",
              "          element.innerHTML = '';\n",
              "          dataTable['output_type'] = 'display_data';\n",
              "          await google.colab.output.renderOutput(dataTable, element);\n",
              "          const docLink = document.createElement('div');\n",
              "          docLink.innerHTML = docLinkHtml;\n",
              "          element.appendChild(docLink);\n",
              "        }\n",
              "      </script>\n",
              "    </div>\n",
              "  </div>\n",
              "  "
            ]
          },
          "metadata": {},
          "execution_count": 184
        }
      ]
    },
    {
      "cell_type": "code",
      "source": [
        "for col in workers2.iloc[:, 3:10].columns:\n",
        "  workers2[col] = workers2[col].astype('category')\n",
        "  workers2[col] = workers2[col].cat.codes"
      ],
      "metadata": {
        "colab": {
          "base_uri": "https://localhost:8080/"
        },
        "id": "enR-_QC4TMn3",
        "outputId": "02f03228-de78-4ae1-91ea-25c756cccccf"
      },
      "execution_count": 185,
      "outputs": [
        {
          "output_type": "stream",
          "name": "stderr",
          "text": [
            "<ipython-input-185-d4bff848bac1>:2: SettingWithCopyWarning: \n",
            "A value is trying to be set on a copy of a slice from a DataFrame.\n",
            "Try using .loc[row_indexer,col_indexer] = value instead\n",
            "\n",
            "See the caveats in the documentation: https://pandas.pydata.org/pandas-docs/stable/user_guide/indexing.html#returning-a-view-versus-a-copy\n",
            "  workers2[col] = workers2[col].astype('category')\n",
            "<ipython-input-185-d4bff848bac1>:3: SettingWithCopyWarning: \n",
            "A value is trying to be set on a copy of a slice from a DataFrame.\n",
            "Try using .loc[row_indexer,col_indexer] = value instead\n",
            "\n",
            "See the caveats in the documentation: https://pandas.pydata.org/pandas-docs/stable/user_guide/indexing.html#returning-a-view-versus-a-copy\n",
            "  workers2[col] = workers2[col].cat.codes\n",
            "<ipython-input-185-d4bff848bac1>:2: SettingWithCopyWarning: \n",
            "A value is trying to be set on a copy of a slice from a DataFrame.\n",
            "Try using .loc[row_indexer,col_indexer] = value instead\n",
            "\n",
            "See the caveats in the documentation: https://pandas.pydata.org/pandas-docs/stable/user_guide/indexing.html#returning-a-view-versus-a-copy\n",
            "  workers2[col] = workers2[col].astype('category')\n",
            "<ipython-input-185-d4bff848bac1>:3: SettingWithCopyWarning: \n",
            "A value is trying to be set on a copy of a slice from a DataFrame.\n",
            "Try using .loc[row_indexer,col_indexer] = value instead\n",
            "\n",
            "See the caveats in the documentation: https://pandas.pydata.org/pandas-docs/stable/user_guide/indexing.html#returning-a-view-versus-a-copy\n",
            "  workers2[col] = workers2[col].cat.codes\n",
            "<ipython-input-185-d4bff848bac1>:2: SettingWithCopyWarning: \n",
            "A value is trying to be set on a copy of a slice from a DataFrame.\n",
            "Try using .loc[row_indexer,col_indexer] = value instead\n",
            "\n",
            "See the caveats in the documentation: https://pandas.pydata.org/pandas-docs/stable/user_guide/indexing.html#returning-a-view-versus-a-copy\n",
            "  workers2[col] = workers2[col].astype('category')\n",
            "<ipython-input-185-d4bff848bac1>:3: SettingWithCopyWarning: \n",
            "A value is trying to be set on a copy of a slice from a DataFrame.\n",
            "Try using .loc[row_indexer,col_indexer] = value instead\n",
            "\n",
            "See the caveats in the documentation: https://pandas.pydata.org/pandas-docs/stable/user_guide/indexing.html#returning-a-view-versus-a-copy\n",
            "  workers2[col] = workers2[col].cat.codes\n",
            "<ipython-input-185-d4bff848bac1>:2: SettingWithCopyWarning: \n",
            "A value is trying to be set on a copy of a slice from a DataFrame.\n",
            "Try using .loc[row_indexer,col_indexer] = value instead\n",
            "\n",
            "See the caveats in the documentation: https://pandas.pydata.org/pandas-docs/stable/user_guide/indexing.html#returning-a-view-versus-a-copy\n",
            "  workers2[col] = workers2[col].astype('category')\n",
            "<ipython-input-185-d4bff848bac1>:3: SettingWithCopyWarning: \n",
            "A value is trying to be set on a copy of a slice from a DataFrame.\n",
            "Try using .loc[row_indexer,col_indexer] = value instead\n",
            "\n",
            "See the caveats in the documentation: https://pandas.pydata.org/pandas-docs/stable/user_guide/indexing.html#returning-a-view-versus-a-copy\n",
            "  workers2[col] = workers2[col].cat.codes\n",
            "<ipython-input-185-d4bff848bac1>:2: SettingWithCopyWarning: \n",
            "A value is trying to be set on a copy of a slice from a DataFrame.\n",
            "Try using .loc[row_indexer,col_indexer] = value instead\n",
            "\n",
            "See the caveats in the documentation: https://pandas.pydata.org/pandas-docs/stable/user_guide/indexing.html#returning-a-view-versus-a-copy\n",
            "  workers2[col] = workers2[col].astype('category')\n",
            "<ipython-input-185-d4bff848bac1>:3: SettingWithCopyWarning: \n",
            "A value is trying to be set on a copy of a slice from a DataFrame.\n",
            "Try using .loc[row_indexer,col_indexer] = value instead\n",
            "\n",
            "See the caveats in the documentation: https://pandas.pydata.org/pandas-docs/stable/user_guide/indexing.html#returning-a-view-versus-a-copy\n",
            "  workers2[col] = workers2[col].cat.codes\n",
            "<ipython-input-185-d4bff848bac1>:2: SettingWithCopyWarning: \n",
            "A value is trying to be set on a copy of a slice from a DataFrame.\n",
            "Try using .loc[row_indexer,col_indexer] = value instead\n",
            "\n",
            "See the caveats in the documentation: https://pandas.pydata.org/pandas-docs/stable/user_guide/indexing.html#returning-a-view-versus-a-copy\n",
            "  workers2[col] = workers2[col].astype('category')\n",
            "<ipython-input-185-d4bff848bac1>:3: SettingWithCopyWarning: \n",
            "A value is trying to be set on a copy of a slice from a DataFrame.\n",
            "Try using .loc[row_indexer,col_indexer] = value instead\n",
            "\n",
            "See the caveats in the documentation: https://pandas.pydata.org/pandas-docs/stable/user_guide/indexing.html#returning-a-view-versus-a-copy\n",
            "  workers2[col] = workers2[col].cat.codes\n",
            "<ipython-input-185-d4bff848bac1>:2: SettingWithCopyWarning: \n",
            "A value is trying to be set on a copy of a slice from a DataFrame.\n",
            "Try using .loc[row_indexer,col_indexer] = value instead\n",
            "\n",
            "See the caveats in the documentation: https://pandas.pydata.org/pandas-docs/stable/user_guide/indexing.html#returning-a-view-versus-a-copy\n",
            "  workers2[col] = workers2[col].astype('category')\n",
            "<ipython-input-185-d4bff848bac1>:3: SettingWithCopyWarning: \n",
            "A value is trying to be set on a copy of a slice from a DataFrame.\n",
            "Try using .loc[row_indexer,col_indexer] = value instead\n",
            "\n",
            "See the caveats in the documentation: https://pandas.pydata.org/pandas-docs/stable/user_guide/indexing.html#returning-a-view-versus-a-copy\n",
            "  workers2[col] = workers2[col].cat.codes\n"
          ]
        }
      ]
    },
    {
      "cell_type": "code",
      "source": [
        "workers2"
      ],
      "metadata": {
        "id": "0GR7PIEnV5Gw",
        "outputId": "465d8c47-83ae-48b6-9cc3-80477ba89fa0",
        "colab": {
          "base_uri": "https://localhost:8080/",
          "height": 424
        }
      },
      "execution_count": 186,
      "outputs": [
        {
          "output_type": "execute_result",
          "data": {
            "text/plain": [
              "     worker_id first_name    last_name  sex  nationality  department  job  \\\n",
              "2            3      Lidia  Lewandowska    0            2           0   20   \n",
              "14          15     Violet       Murray    0            0           0    5   \n",
              "15          16      Daisy       Rimmer    0            0           0   20   \n",
              "16          17     Olivia       Murray    0            0           0    5   \n",
              "17          18   Isabelle        Walsh    0            0           0    5   \n",
              "..         ...        ...          ...  ...          ...         ...  ...   \n",
              "210        211     Ingrid     Jacobsen    0            1           5    2   \n",
              "211        212        Ada         Lund    0            1           5    2   \n",
              "212        213     Tobias    Henriksen    1            1           5   18   \n",
              "213        214   Johannes    Gundersen    1            1           5   19   \n",
              "214        215      Jakob       Haugen    1            1           5    2   \n",
              "\n",
              "     employment_level  month_of_employment  year_of_employment  salary_gross  \n",
              "2                   1                    2                  12        6800.0  \n",
              "14                  3                    3                  10        7400.0  \n",
              "15                  1                    2                  16        7700.0  \n",
              "16                  2                    4                   3        6500.0  \n",
              "17                  2                    1                  19        6800.0  \n",
              "..                ...                  ...                 ...           ...  \n",
              "210                 3                    5                   7       12600.0  \n",
              "211                 4                   10                   7        9800.0  \n",
              "212                 3                    9                   5       13400.0  \n",
              "213                 0                    9                  15       11400.0  \n",
              "214                 4                    1                   3       10100.0  \n",
              "\n",
              "[169 rows x 11 columns]"
            ],
            "text/html": [
              "\n",
              "  <div id=\"df-2bebaeba-b431-421c-ba6c-9c213298f68a\">\n",
              "    <div class=\"colab-df-container\">\n",
              "      <div>\n",
              "<style scoped>\n",
              "    .dataframe tbody tr th:only-of-type {\n",
              "        vertical-align: middle;\n",
              "    }\n",
              "\n",
              "    .dataframe tbody tr th {\n",
              "        vertical-align: top;\n",
              "    }\n",
              "\n",
              "    .dataframe thead th {\n",
              "        text-align: right;\n",
              "    }\n",
              "</style>\n",
              "<table border=\"1\" class=\"dataframe\">\n",
              "  <thead>\n",
              "    <tr style=\"text-align: right;\">\n",
              "      <th></th>\n",
              "      <th>worker_id</th>\n",
              "      <th>first_name</th>\n",
              "      <th>last_name</th>\n",
              "      <th>sex</th>\n",
              "      <th>nationality</th>\n",
              "      <th>department</th>\n",
              "      <th>job</th>\n",
              "      <th>employment_level</th>\n",
              "      <th>month_of_employment</th>\n",
              "      <th>year_of_employment</th>\n",
              "      <th>salary_gross</th>\n",
              "    </tr>\n",
              "  </thead>\n",
              "  <tbody>\n",
              "    <tr>\n",
              "      <th>2</th>\n",
              "      <td>3</td>\n",
              "      <td>Lidia</td>\n",
              "      <td>Lewandowska</td>\n",
              "      <td>0</td>\n",
              "      <td>2</td>\n",
              "      <td>0</td>\n",
              "      <td>20</td>\n",
              "      <td>1</td>\n",
              "      <td>2</td>\n",
              "      <td>12</td>\n",
              "      <td>6800.0</td>\n",
              "    </tr>\n",
              "    <tr>\n",
              "      <th>14</th>\n",
              "      <td>15</td>\n",
              "      <td>Violet</td>\n",
              "      <td>Murray</td>\n",
              "      <td>0</td>\n",
              "      <td>0</td>\n",
              "      <td>0</td>\n",
              "      <td>5</td>\n",
              "      <td>3</td>\n",
              "      <td>3</td>\n",
              "      <td>10</td>\n",
              "      <td>7400.0</td>\n",
              "    </tr>\n",
              "    <tr>\n",
              "      <th>15</th>\n",
              "      <td>16</td>\n",
              "      <td>Daisy</td>\n",
              "      <td>Rimmer</td>\n",
              "      <td>0</td>\n",
              "      <td>0</td>\n",
              "      <td>0</td>\n",
              "      <td>20</td>\n",
              "      <td>1</td>\n",
              "      <td>2</td>\n",
              "      <td>16</td>\n",
              "      <td>7700.0</td>\n",
              "    </tr>\n",
              "    <tr>\n",
              "      <th>16</th>\n",
              "      <td>17</td>\n",
              "      <td>Olivia</td>\n",
              "      <td>Murray</td>\n",
              "      <td>0</td>\n",
              "      <td>0</td>\n",
              "      <td>0</td>\n",
              "      <td>5</td>\n",
              "      <td>2</td>\n",
              "      <td>4</td>\n",
              "      <td>3</td>\n",
              "      <td>6500.0</td>\n",
              "    </tr>\n",
              "    <tr>\n",
              "      <th>17</th>\n",
              "      <td>18</td>\n",
              "      <td>Isabelle</td>\n",
              "      <td>Walsh</td>\n",
              "      <td>0</td>\n",
              "      <td>0</td>\n",
              "      <td>0</td>\n",
              "      <td>5</td>\n",
              "      <td>2</td>\n",
              "      <td>1</td>\n",
              "      <td>19</td>\n",
              "      <td>6800.0</td>\n",
              "    </tr>\n",
              "    <tr>\n",
              "      <th>...</th>\n",
              "      <td>...</td>\n",
              "      <td>...</td>\n",
              "      <td>...</td>\n",
              "      <td>...</td>\n",
              "      <td>...</td>\n",
              "      <td>...</td>\n",
              "      <td>...</td>\n",
              "      <td>...</td>\n",
              "      <td>...</td>\n",
              "      <td>...</td>\n",
              "      <td>...</td>\n",
              "    </tr>\n",
              "    <tr>\n",
              "      <th>210</th>\n",
              "      <td>211</td>\n",
              "      <td>Ingrid</td>\n",
              "      <td>Jacobsen</td>\n",
              "      <td>0</td>\n",
              "      <td>1</td>\n",
              "      <td>5</td>\n",
              "      <td>2</td>\n",
              "      <td>3</td>\n",
              "      <td>5</td>\n",
              "      <td>7</td>\n",
              "      <td>12600.0</td>\n",
              "    </tr>\n",
              "    <tr>\n",
              "      <th>211</th>\n",
              "      <td>212</td>\n",
              "      <td>Ada</td>\n",
              "      <td>Lund</td>\n",
              "      <td>0</td>\n",
              "      <td>1</td>\n",
              "      <td>5</td>\n",
              "      <td>2</td>\n",
              "      <td>4</td>\n",
              "      <td>10</td>\n",
              "      <td>7</td>\n",
              "      <td>9800.0</td>\n",
              "    </tr>\n",
              "    <tr>\n",
              "      <th>212</th>\n",
              "      <td>213</td>\n",
              "      <td>Tobias</td>\n",
              "      <td>Henriksen</td>\n",
              "      <td>1</td>\n",
              "      <td>1</td>\n",
              "      <td>5</td>\n",
              "      <td>18</td>\n",
              "      <td>3</td>\n",
              "      <td>9</td>\n",
              "      <td>5</td>\n",
              "      <td>13400.0</td>\n",
              "    </tr>\n",
              "    <tr>\n",
              "      <th>213</th>\n",
              "      <td>214</td>\n",
              "      <td>Johannes</td>\n",
              "      <td>Gundersen</td>\n",
              "      <td>1</td>\n",
              "      <td>1</td>\n",
              "      <td>5</td>\n",
              "      <td>19</td>\n",
              "      <td>0</td>\n",
              "      <td>9</td>\n",
              "      <td>15</td>\n",
              "      <td>11400.0</td>\n",
              "    </tr>\n",
              "    <tr>\n",
              "      <th>214</th>\n",
              "      <td>215</td>\n",
              "      <td>Jakob</td>\n",
              "      <td>Haugen</td>\n",
              "      <td>1</td>\n",
              "      <td>1</td>\n",
              "      <td>5</td>\n",
              "      <td>2</td>\n",
              "      <td>4</td>\n",
              "      <td>1</td>\n",
              "      <td>3</td>\n",
              "      <td>10100.0</td>\n",
              "    </tr>\n",
              "  </tbody>\n",
              "</table>\n",
              "<p>169 rows × 11 columns</p>\n",
              "</div>\n",
              "      <button class=\"colab-df-convert\" onclick=\"convertToInteractive('df-2bebaeba-b431-421c-ba6c-9c213298f68a')\"\n",
              "              title=\"Convert this dataframe to an interactive table.\"\n",
              "              style=\"display:none;\">\n",
              "        \n",
              "  <svg xmlns=\"http://www.w3.org/2000/svg\" height=\"24px\"viewBox=\"0 0 24 24\"\n",
              "       width=\"24px\">\n",
              "    <path d=\"M0 0h24v24H0V0z\" fill=\"none\"/>\n",
              "    <path d=\"M18.56 5.44l.94 2.06.94-2.06 2.06-.94-2.06-.94-.94-2.06-.94 2.06-2.06.94zm-11 1L8.5 8.5l.94-2.06 2.06-.94-2.06-.94L8.5 2.5l-.94 2.06-2.06.94zm10 10l.94 2.06.94-2.06 2.06-.94-2.06-.94-.94-2.06-.94 2.06-2.06.94z\"/><path d=\"M17.41 7.96l-1.37-1.37c-.4-.4-.92-.59-1.43-.59-.52 0-1.04.2-1.43.59L10.3 9.45l-7.72 7.72c-.78.78-.78 2.05 0 2.83L4 21.41c.39.39.9.59 1.41.59.51 0 1.02-.2 1.41-.59l7.78-7.78 2.81-2.81c.8-.78.8-2.07 0-2.86zM5.41 20L4 18.59l7.72-7.72 1.47 1.35L5.41 20z\"/>\n",
              "  </svg>\n",
              "      </button>\n",
              "      \n",
              "  <style>\n",
              "    .colab-df-container {\n",
              "      display:flex;\n",
              "      flex-wrap:wrap;\n",
              "      gap: 12px;\n",
              "    }\n",
              "\n",
              "    .colab-df-convert {\n",
              "      background-color: #E8F0FE;\n",
              "      border: none;\n",
              "      border-radius: 50%;\n",
              "      cursor: pointer;\n",
              "      display: none;\n",
              "      fill: #1967D2;\n",
              "      height: 32px;\n",
              "      padding: 0 0 0 0;\n",
              "      width: 32px;\n",
              "    }\n",
              "\n",
              "    .colab-df-convert:hover {\n",
              "      background-color: #E2EBFA;\n",
              "      box-shadow: 0px 1px 2px rgba(60, 64, 67, 0.3), 0px 1px 3px 1px rgba(60, 64, 67, 0.15);\n",
              "      fill: #174EA6;\n",
              "    }\n",
              "\n",
              "    [theme=dark] .colab-df-convert {\n",
              "      background-color: #3B4455;\n",
              "      fill: #D2E3FC;\n",
              "    }\n",
              "\n",
              "    [theme=dark] .colab-df-convert:hover {\n",
              "      background-color: #434B5C;\n",
              "      box-shadow: 0px 1px 3px 1px rgba(0, 0, 0, 0.15);\n",
              "      filter: drop-shadow(0px 1px 2px rgba(0, 0, 0, 0.3));\n",
              "      fill: #FFFFFF;\n",
              "    }\n",
              "  </style>\n",
              "\n",
              "      <script>\n",
              "        const buttonEl =\n",
              "          document.querySelector('#df-2bebaeba-b431-421c-ba6c-9c213298f68a button.colab-df-convert');\n",
              "        buttonEl.style.display =\n",
              "          google.colab.kernel.accessAllowed ? 'block' : 'none';\n",
              "\n",
              "        async function convertToInteractive(key) {\n",
              "          const element = document.querySelector('#df-2bebaeba-b431-421c-ba6c-9c213298f68a');\n",
              "          const dataTable =\n",
              "            await google.colab.kernel.invokeFunction('convertToInteractive',\n",
              "                                                     [key], {});\n",
              "          if (!dataTable) return;\n",
              "\n",
              "          const docLinkHtml = 'Like what you see? Visit the ' +\n",
              "            '<a target=\"_blank\" href=https://colab.research.google.com/notebooks/data_table.ipynb>data table notebook</a>'\n",
              "            + ' to learn more about interactive tables.';\n",
              "          element.innerHTML = '';\n",
              "          dataTable['output_type'] = 'display_data';\n",
              "          await google.colab.output.renderOutput(dataTable, element);\n",
              "          const docLink = document.createElement('div');\n",
              "          docLink.innerHTML = docLinkHtml;\n",
              "          element.appendChild(docLink);\n",
              "        }\n",
              "      </script>\n",
              "    </div>\n",
              "  </div>\n",
              "  "
            ]
          },
          "metadata": {},
          "execution_count": 186
        }
      ]
    },
    {
      "cell_type": "markdown",
      "source": [
        "Correlation matrix"
      ],
      "metadata": {
        "id": "homnDi2DARxi"
      }
    },
    {
      "cell_type": "code",
      "source": [
        "#utworzenie mapy korelacji\n",
        "workers2_corr = workers2.iloc[:,3:].corr()\n",
        "sns.heatmap(workers2_corr, cmap='RdYlGn', annot=True)"
      ],
      "metadata": {
        "colab": {
          "base_uri": "https://localhost:8080/",
          "height": 999
        },
        "id": "zASnVBM0AYAs",
        "outputId": "4c54960c-77be-4c61-df92-2a156b9cf7fd"
      },
      "execution_count": 187,
      "outputs": [
        {
          "output_type": "execute_result",
          "data": {
            "text/plain": [
              "<Axes: >"
            ]
          },
          "metadata": {},
          "execution_count": 187
        },
        {
          "output_type": "display_data",
          "data": {
            "text/plain": [
              "<Figure size 1600x1000 with 2 Axes>"
            ],
            "image/png": "[encoded data removed]"
          },
          "metadata": {}
        }
      ]
    },
    {
      "cell_type": "code",
      "source": [
        "workers2"
      ],
      "metadata": {
        "colab": {
          "base_uri": "https://localhost:8080/",
          "height": 424
        },
        "id": "8GAHFY7EEw77",
        "outputId": "ccb88884-d579-4aa5-e1eb-aa534713ddec"
      },
      "execution_count": 188,
      "outputs": [
        {
          "output_type": "execute_result",
          "data": {
            "text/plain": [
              "     worker_id first_name    last_name  sex  nationality  department  job  \\\n",
              "2            3      Lidia  Lewandowska    0            2           0   20   \n",
              "14          15     Violet       Murray    0            0           0    5   \n",
              "15          16      Daisy       Rimmer    0            0           0   20   \n",
              "16          17     Olivia       Murray    0            0           0    5   \n",
              "17          18   Isabelle        Walsh    0            0           0    5   \n",
              "..         ...        ...          ...  ...          ...         ...  ...   \n",
              "210        211     Ingrid     Jacobsen    0            1           5    2   \n",
              "211        212        Ada         Lund    0            1           5    2   \n",
              "212        213     Tobias    Henriksen    1            1           5   18   \n",
              "213        214   Johannes    Gundersen    1            1           5   19   \n",
              "214        215      Jakob       Haugen    1            1           5    2   \n",
              "\n",
              "     employment_level  month_of_employment  year_of_employment  salary_gross  \n",
              "2                   1                    2                  12        6800.0  \n",
              "14                  3                    3                  10        7400.0  \n",
              "15                  1                    2                  16        7700.0  \n",
              "16                  2                    4                   3        6500.0  \n",
              "17                  2                    1                  19        6800.0  \n",
              "..                ...                  ...                 ...           ...  \n",
              "210                 3                    5                   7       12600.0  \n",
              "211                 4                   10                   7        9800.0  \n",
              "212                 3                    9                   5       13400.0  \n",
              "213                 0                    9                  15       11400.0  \n",
              "214                 4                    1                   3       10100.0  \n",
              "\n",
              "[169 rows x 11 columns]"
            ],
            "text/html": [
              "\n",
              "  <div id=\"df-e2dcd1b0-10e9-443d-a9c0-38e492aef740\">\n",
              "    <div class=\"colab-df-container\">\n",
              "      <div>\n",
              "<style scoped>\n",
              "    .dataframe tbody tr th:only-of-type {\n",
              "        vertical-align: middle;\n",
              "    }\n",
              "\n",
              "    .dataframe tbody tr th {\n",
              "        vertical-align: top;\n",
              "    }\n",
              "\n",
              "    .dataframe thead th {\n",
              "        text-align: right;\n",
              "    }\n",
              "</style>\n",
              "<table border=\"1\" class=\"dataframe\">\n",
              "  <thead>\n",
              "    <tr style=\"text-align: right;\">\n",
              "      <th></th>\n",
              "      <th>worker_id</th>\n",
              "      <th>first_name</th>\n",
              "      <th>last_name</th>\n",
              "      <th>sex</th>\n",
              "      <th>nationality</th>\n",
              "      <th>department</th>\n",
              "      <th>job</th>\n",
              "      <th>employment_level</th>\n",
              "      <th>month_of_employment</th>\n",
              "      <th>year_of_employment</th>\n",
              "      <th>salary_gross</th>\n",
              "    </tr>\n",
              "  </thead>\n",
              "  <tbody>\n",
              "    <tr>\n",
              "      <th>2</th>\n",
              "      <td>3</td>\n",
              "      <td>Lidia</td>\n",
              "      <td>Lewandowska</td>\n",
              "      <td>0</td>\n",
              "      <td>2</td>\n",
              "      <td>0</td>\n",
              "      <td>20</td>\n",
              "      <td>1</td>\n",
              "      <td>2</td>\n",
              "      <td>12</td>\n",
              "      <td>6800.0</td>\n",
              "    </tr>\n",
              "    <tr>\n",
              "      <th>14</th>\n",
              "      <td>15</td>\n",
              "      <td>Violet</td>\n",
              "      <td>Murray</td>\n",
              "      <td>0</td>\n",
              "      <td>0</td>\n",
              "      <td>0</td>\n",
              "      <td>5</td>\n",
              "      <td>3</td>\n",
              "      <td>3</td>\n",
              "      <td>10</td>\n",
              "      <td>7400.0</td>\n",
              "    </tr>\n",
              "    <tr>\n",
              "      <th>15</th>\n",
              "      <td>16</td>\n",
              "      <td>Daisy</td>\n",
              "      <td>Rimmer</td>\n",
              "      <td>0</td>\n",
              "      <td>0</td>\n",
              "      <td>0</td>\n",
              "      <td>20</td>\n",
              "      <td>1</td>\n",
              "      <td>2</td>\n",
              "      <td>16</td>\n",
              "      <td>7700.0</td>\n",
              "    </tr>\n",
              "    <tr>\n",
              "      <th>16</th>\n",
              "      <td>17</td>\n",
              "      <td>Olivia</td>\n",
              "      <td>Murray</td>\n",
              "      <td>0</td>\n",
              "      <td>0</td>\n",
              "      <td>0</td>\n",
              "      <td>5</td>\n",
              "      <td>2</td>\n",
              "      <td>4</td>\n",
              "      <td>3</td>\n",
              "      <td>6500.0</td>\n",
              "    </tr>\n",
              "    <tr>\n",
              "      <th>17</th>\n",
              "      <td>18</td>\n",
              "      <td>Isabelle</td>\n",
              "      <td>Walsh</td>\n",
              "      <td>0</td>\n",
              "      <td>0</td>\n",
              "      <td>0</td>\n",
              "      <td>5</td>\n",
              "      <td>2</td>\n",
              "      <td>1</td>\n",
              "      <td>19</td>\n",
              "      <td>6800.0</td>\n",
              "    </tr>\n",
              "    <tr>\n",
              "      <th>...</th>\n",
              "      <td>...</td>\n",
              "      <td>...</td>\n",
              "      <td>...</td>\n",
              "      <td>...</td>\n",
              "      <td>...</td>\n",
              "      <td>...</td>\n",
              "      <td>...</td>\n",
              "      <td>...</td>\n",
              "      <td>...</td>\n",
              "      <td>...</td>\n",
              "      <td>...</td>\n",
              "    </tr>\n",
              "    <tr>\n",
              "      <th>210</th>\n",
              "      <td>211</td>\n",
              "      <td>Ingrid</td>\n",
              "      <td>Jacobsen</td>\n",
              "      <td>0</td>\n",
              "      <td>1</td>\n",
              "      <td>5</td>\n",
              "      <td>2</td>\n",
              "      <td>3</td>\n",
              "      <td>5</td>\n",
              "      <td>7</td>\n",
              "      <td>12600.0</td>\n",
              "    </tr>\n",
              "    <tr>\n",
              "      <th>211</th>\n",
              "      <td>212</td>\n",
              "      <td>Ada</td>\n",
              "      <td>Lund</td>\n",
              "      <td>0</td>\n",
              "      <td>1</td>\n",
              "      <td>5</td>\n",
              "      <td>2</td>\n",
              "      <td>4</td>\n",
              "      <td>10</td>\n",
              "      <td>7</td>\n",
              "      <td>9800.0</td>\n",
              "    </tr>\n",
              "    <tr>\n",
              "      <th>212</th>\n",
              "      <td>213</td>\n",
              "      <td>Tobias</td>\n",
              "      <td>Henriksen</td>\n",
              "      <td>1</td>\n",
              "      <td>1</td>\n",
              "      <td>5</td>\n",
              "      <td>18</td>\n",
              "      <td>3</td>\n",
              "      <td>9</td>\n",
              "      <td>5</td>\n",
              "      <td>13400.0</td>\n",
              "    </tr>\n",
              "    <tr>\n",
              "      <th>213</th>\n",
              "      <td>214</td>\n",
              "      <td>Johannes</td>\n",
              "      <td>Gundersen</td>\n",
              "      <td>1</td>\n",
              "      <td>1</td>\n",
              "      <td>5</td>\n",
              "      <td>19</td>\n",
              "      <td>0</td>\n",
              "      <td>9</td>\n",
              "      <td>15</td>\n",
              "      <td>11400.0</td>\n",
              "    </tr>\n",
              "    <tr>\n",
              "      <th>214</th>\n",
              "      <td>215</td>\n",
              "      <td>Jakob</td>\n",
              "      <td>Haugen</td>\n",
              "      <td>1</td>\n",
              "      <td>1</td>\n",
              "      <td>5</td>\n",
              "      <td>2</td>\n",
              "      <td>4</td>\n",
              "      <td>1</td>\n",
              "      <td>3</td>\n",
              "      <td>10100.0</td>\n",
              "    </tr>\n",
              "  </tbody>\n",
              "</table>\n",
              "<p>169 rows × 11 columns</p>\n",
              "</div>\n",
              "      <button class=\"colab-df-convert\" onclick=\"convertToInteractive('df-e2dcd1b0-10e9-443d-a9c0-38e492aef740')\"\n",
              "              title=\"Convert this dataframe to an interactive table.\"\n",
              "              style=\"display:none;\">\n",
              "        \n",
              "  <svg xmlns=\"http://www.w3.org/2000/svg\" height=\"24px\"viewBox=\"0 0 24 24\"\n",
              "       width=\"24px\">\n",
              "    <path d=\"M0 0h24v24H0V0z\" fill=\"none\"/>\n",
              "    <path d=\"M18.56 5.44l.94 2.06.94-2.06 2.06-.94-2.06-.94-.94-2.06-.94 2.06-2.06.94zm-11 1L8.5 8.5l.94-2.06 2.06-.94-2.06-.94L8.5 2.5l-.94 2.06-2.06.94zm10 10l.94 2.06.94-2.06 2.06-.94-2.06-.94-.94-2.06-.94 2.06-2.06.94z\"/><path d=\"M17.41 7.96l-1.37-1.37c-.4-.4-.92-.59-1.43-.59-.52 0-1.04.2-1.43.59L10.3 9.45l-7.72 7.72c-.78.78-.78 2.05 0 2.83L4 21.41c.39.39.9.59 1.41.59.51 0 1.02-.2 1.41-.59l7.78-7.78 2.81-2.81c.8-.78.8-2.07 0-2.86zM5.41 20L4 18.59l7.72-7.72 1.47 1.35L5.41 20z\"/>\n",
              "  </svg>\n",
              "      </button>\n",
              "      \n",
              "  <style>\n",
              "    .colab-df-container {\n",
              "      display:flex;\n",
              "      flex-wrap:wrap;\n",
              "      gap: 12px;\n",
              "    }\n",
              "\n",
              "    .colab-df-convert {\n",
              "      background-color: #E8F0FE;\n",
              "      border: none;\n",
              "      border-radius: 50%;\n",
              "      cursor: pointer;\n",
              "      display: none;\n",
              "      fill: #1967D2;\n",
              "      height: 32px;\n",
              "      padding: 0 0 0 0;\n",
              "      width: 32px;\n",
              "    }\n",
              "\n",
              "    .colab-df-convert:hover {\n",
              "      background-color: #E2EBFA;\n",
              "      box-shadow: 0px 1px 2px rgba(60, 64, 67, 0.3), 0px 1px 3px 1px rgba(60, 64, 67, 0.15);\n",
              "      fill: #174EA6;\n",
              "    }\n",
              "\n",
              "    [theme=dark] .colab-df-convert {\n",
              "      background-color: #3B4455;\n",
              "      fill: #D2E3FC;\n",
              "    }\n",
              "\n",
              "    [theme=dark] .colab-df-convert:hover {\n",
              "      background-color: #434B5C;\n",
              "      box-shadow: 0px 1px 3px 1px rgba(0, 0, 0, 0.15);\n",
              "      filter: drop-shadow(0px 1px 2px rgba(0, 0, 0, 0.3));\n",
              "      fill: #FFFFFF;\n",
              "    }\n",
              "  </style>\n",
              "\n",
              "      <script>\n",
              "        const buttonEl =\n",
              "          document.querySelector('#df-e2dcd1b0-10e9-443d-a9c0-38e492aef740 button.colab-df-convert');\n",
              "        buttonEl.style.display =\n",
              "          google.colab.kernel.accessAllowed ? 'block' : 'none';\n",
              "\n",
              "        async function convertToInteractive(key) {\n",
              "          const element = document.querySelector('#df-e2dcd1b0-10e9-443d-a9c0-38e492aef740');\n",
              "          const dataTable =\n",
              "            await google.colab.kernel.invokeFunction('convertToInteractive',\n",
              "                                                     [key], {});\n",
              "          if (!dataTable) return;\n",
              "\n",
              "          const docLinkHtml = 'Like what you see? Visit the ' +\n",
              "            '<a target=\"_blank\" href=https://colab.research.google.com/notebooks/data_table.ipynb>data table notebook</a>'\n",
              "            + ' to learn more about interactive tables.';\n",
              "          element.innerHTML = '';\n",
              "          dataTable['output_type'] = 'display_data';\n",
              "          await google.colab.output.renderOutput(dataTable, element);\n",
              "          const docLink = document.createElement('div');\n",
              "          docLink.innerHTML = docLinkHtml;\n",
              "          element.appendChild(docLink);\n",
              "        }\n",
              "      </script>\n",
              "    </div>\n",
              "  </div>\n",
              "  "
            ]
          },
          "metadata": {},
          "execution_count": 188
        }
      ]
    },
    {
      "cell_type": "code",
      "source": [
        "workers2.info()"
      ],
      "metadata": {
        "colab": {
          "base_uri": "https://localhost:8080/"
        },
        "id": "PIgkCD4AMgb4",
        "outputId": "9d68e0f4-d89c-4455-c0c0-7b1883e68d84"
      },
      "execution_count": 189,
      "outputs": [
        {
          "output_type": "stream",
          "name": "stdout",
          "text": [
            "<class 'pandas.core.frame.DataFrame'>\n",
            "Int64Index: 169 entries, 2 to 214\n",
            "Data columns (total 11 columns):\n",
            " #   Column               Non-Null Count  Dtype  \n",
            "---  ------               --------------  -----  \n",
            " 0   worker_id            169 non-null    int64  \n",
            " 1   first_name           169 non-null    object \n",
            " 2   last_name            169 non-null    object \n",
            " 3   sex                  169 non-null    int8   \n",
            " 4   nationality          169 non-null    int8   \n",
            " 5   department           169 non-null    int8   \n",
            " 6   job                  169 non-null    int8   \n",
            " 7   employment_level     169 non-null    int8   \n",
            " 8   month_of_employment  169 non-null    int8   \n",
            " 9   year_of_employment   169 non-null    int8   \n",
            " 10  salary_gross         169 non-null    float64\n",
            "dtypes: float64(1), int64(1), int8(7), object(2)\n",
            "memory usage: 7.8+ KB\n"
          ]
        }
      ]
    },
    {
      "cell_type": "markdown",
      "source": [
        "Linear regression model"
      ],
      "metadata": {
        "id": "gmXoqSR3B7Df"
      }
    },
    {
      "cell_type": "code",
      "source": [
        "#depending and independing values\n",
        "y = workers2.pop('salary_gross')\n",
        "X = workers2.iloc[:,3:]"
      ],
      "metadata": {
        "id": "GIf6ffBXD69T"
      },
      "execution_count": 190,
      "outputs": []
    },
    {
      "cell_type": "code",
      "source": [
        "#importing frameworks\n",
        "from sklearn.model_selection import train_test_split\n",
        "from sklearn.linear_model import LinearRegression"
      ],
      "metadata": {
        "id": "R3yo4hbxB-Y2"
      },
      "execution_count": 191,
      "outputs": []
    },
    {
      "cell_type": "code",
      "source": [
        "X_train, X_test, y_train, y_test = train_test_split(X, y, test_size=0.2, random_state=123)"
      ],
      "metadata": {
        "id": "aA_3wZiXFWLu"
      },
      "execution_count": 192,
      "outputs": []
    },
    {
      "cell_type": "code",
      "source": [
        "X_train"
      ],
      "metadata": {
        "colab": {
          "base_uri": "https://localhost:8080/",
          "height": 424
        },
        "id": "gUa6LouZL3ZK",
        "outputId": "85de8224-4b0e-4a1d-a9bd-759d264d6346"
      },
      "execution_count": 193,
      "outputs": [
        {
          "output_type": "execute_result",
          "data": {
            "text/plain": [
              "     sex  nationality  department  job  employment_level  month_of_employment  \\\n",
              "200    1            0           5   19                 4                    5   \n",
              "35     0            1           0   20                 0                    0   \n",
              "45     0            2           2   15                 1                    1   \n",
              "28     1            0           0   13                 3                   10   \n",
              "167    1            2           1    1                 0                    5   \n",
              "..   ...          ...         ...  ...               ...                  ...   \n",
              "32     0            1           0    5                 0                    0   \n",
              "143    1            0           4    6                 1                    7   \n",
              "93     1            0           3   16                 0                    0   \n",
              "172    1            0           1    1                 1                   11   \n",
              "154    0            1           4    7                 0                   10   \n",
              "\n",
              "     year_of_employment  \n",
              "200                  12  \n",
              "35                   13  \n",
              "45                   12  \n",
              "28                   15  \n",
              "167                   6  \n",
              "..                  ...  \n",
              "32                   15  \n",
              "143                   5  \n",
              "93                    6  \n",
              "172                   7  \n",
              "154                  14  \n",
              "\n",
              "[135 rows x 7 columns]"
            ],
            "text/html": [
              "\n",
              "  <div id=\"df-1c0066c8-c5af-4ac2-8927-23223798d7c0\">\n",
              "    <div class=\"colab-df-container\">\n",
              "      <div>\n",
              "<style scoped>\n",
              "    .dataframe tbody tr th:only-of-type {\n",
              "        vertical-align: middle;\n",
              "    }\n",
              "\n",
              "    .dataframe tbody tr th {\n",
              "        vertical-align: top;\n",
              "    }\n",
              "\n",
              "    .dataframe thead th {\n",
              "        text-align: right;\n",
              "    }\n",
              "</style>\n",
              "<table border=\"1\" class=\"dataframe\">\n",
              "  <thead>\n",
              "    <tr style=\"text-align: right;\">\n",
              "      <th></th>\n",
              "      <th>sex</th>\n",
              "      <th>nationality</th>\n",
              "      <th>department</th>\n",
              "      <th>job</th>\n",
              "      <th>employment_level</th>\n",
              "      <th>month_of_employment</th>\n",
              "      <th>year_of_employment</th>\n",
              "    </tr>\n",
              "  </thead>\n",
              "  <tbody>\n",
              "    <tr>\n",
              "      <th>200</th>\n",
              "      <td>1</td>\n",
              "      <td>0</td>\n",
              "      <td>5</td>\n",
              "      <td>19</td>\n",
              "      <td>4</td>\n",
              "      <td>5</td>\n",
              "      <td>12</td>\n",
              "    </tr>\n",
              "    <tr>\n",
              "      <th>35</th>\n",
              "      <td>0</td>\n",
              "      <td>1</td>\n",
              "      <td>0</td>\n",
              "      <td>20</td>\n",
              "      <td>0</td>\n",
              "      <td>0</td>\n",
              "      <td>13</td>\n",
              "    </tr>\n",
              "    <tr>\n",
              "      <th>45</th>\n",
              "      <td>0</td>\n",
              "      <td>2</td>\n",
              "      <td>2</td>\n",
              "      <td>15</td>\n",
              "      <td>1</td>\n",
              "      <td>1</td>\n",
              "      <td>12</td>\n",
              "    </tr>\n",
              "    <tr>\n",
              "      <th>28</th>\n",
              "      <td>1</td>\n",
              "      <td>0</td>\n",
              "      <td>0</td>\n",
              "      <td>13</td>\n",
              "      <td>3</td>\n",
              "      <td>10</td>\n",
              "      <td>15</td>\n",
              "    </tr>\n",
              "    <tr>\n",
              "      <th>167</th>\n",
              "      <td>1</td>\n",
              "      <td>2</td>\n",
              "      <td>1</td>\n",
              "      <td>1</td>\n",
              "      <td>0</td>\n",
              "      <td>5</td>\n",
              "      <td>6</td>\n",
              "    </tr>\n",
              "    <tr>\n",
              "      <th>...</th>\n",
              "      <td>...</td>\n",
              "      <td>...</td>\n",
              "      <td>...</td>\n",
              "      <td>...</td>\n",
              "      <td>...</td>\n",
              "      <td>...</td>\n",
              "      <td>...</td>\n",
              "    </tr>\n",
              "    <tr>\n",
              "      <th>32</th>\n",
              "      <td>0</td>\n",
              "      <td>1</td>\n",
              "      <td>0</td>\n",
              "      <td>5</td>\n",
              "      <td>0</td>\n",
              "      <td>0</td>\n",
              "      <td>15</td>\n",
              "    </tr>\n",
              "    <tr>\n",
              "      <th>143</th>\n",
              "      <td>1</td>\n",
              "      <td>0</td>\n",
              "      <td>4</td>\n",
              "      <td>6</td>\n",
              "      <td>1</td>\n",
              "      <td>7</td>\n",
              "      <td>5</td>\n",
              "    </tr>\n",
              "    <tr>\n",
              "      <th>93</th>\n",
              "      <td>1</td>\n",
              "      <td>0</td>\n",
              "      <td>3</td>\n",
              "      <td>16</td>\n",
              "      <td>0</td>\n",
              "      <td>0</td>\n",
              "      <td>6</td>\n",
              "    </tr>\n",
              "    <tr>\n",
              "      <th>172</th>\n",
              "      <td>1</td>\n",
              "      <td>0</td>\n",
              "      <td>1</td>\n",
              "      <td>1</td>\n",
              "      <td>1</td>\n",
              "      <td>11</td>\n",
              "      <td>7</td>\n",
              "    </tr>\n",
              "    <tr>\n",
              "      <th>154</th>\n",
              "      <td>0</td>\n",
              "      <td>1</td>\n",
              "      <td>4</td>\n",
              "      <td>7</td>\n",
              "      <td>0</td>\n",
              "      <td>10</td>\n",
              "      <td>14</td>\n",
              "    </tr>\n",
              "  </tbody>\n",
              "</table>\n",
              "<p>135 rows × 7 columns</p>\n",
              "</div>\n",
              "      <button class=\"colab-df-convert\" onclick=\"convertToInteractive('df-1c0066c8-c5af-4ac2-8927-23223798d7c0')\"\n",
              "              title=\"Convert this dataframe to an interactive table.\"\n",
              "              style=\"display:none;\">\n",
              "        \n",
              "  <svg xmlns=\"http://www.w3.org/2000/svg\" height=\"24px\"viewBox=\"0 0 24 24\"\n",
              "       width=\"24px\">\n",
              "    <path d=\"M0 0h24v24H0V0z\" fill=\"none\"/>\n",
              "    <path d=\"M18.56 5.44l.94 2.06.94-2.06 2.06-.94-2.06-.94-.94-2.06-.94 2.06-2.06.94zm-11 1L8.5 8.5l.94-2.06 2.06-.94-2.06-.94L8.5 2.5l-.94 2.06-2.06.94zm10 10l.94 2.06.94-2.06 2.06-.94-2.06-.94-.94-2.06-.94 2.06-2.06.94z\"/><path d=\"M17.41 7.96l-1.37-1.37c-.4-.4-.92-.59-1.43-.59-.52 0-1.04.2-1.43.59L10.3 9.45l-7.72 7.72c-.78.78-.78 2.05 0 2.83L4 21.41c.39.39.9.59 1.41.59.51 0 1.02-.2 1.41-.59l7.78-7.78 2.81-2.81c.8-.78.8-2.07 0-2.86zM5.41 20L4 18.59l7.72-7.72 1.47 1.35L5.41 20z\"/>\n",
              "  </svg>\n",
              "      </button>\n",
              "      \n",
              "  <style>\n",
              "    .colab-df-container {\n",
              "      display:flex;\n",
              "      flex-wrap:wrap;\n",
              "      gap: 12px;\n",
              "    }\n",
              "\n",
              "    .colab-df-convert {\n",
              "      background-color: #E8F0FE;\n",
              "      border: none;\n",
              "      border-radius: 50%;\n",
              "      cursor: pointer;\n",
              "      display: none;\n",
              "      fill: #1967D2;\n",
              "      height: 32px;\n",
              "      padding: 0 0 0 0;\n",
              "      width: 32px;\n",
              "    }\n",
              "\n",
              "    .colab-df-convert:hover {\n",
              "      background-color: #E2EBFA;\n",
              "      box-shadow: 0px 1px 2px rgba(60, 64, 67, 0.3), 0px 1px 3px 1px rgba(60, 64, 67, 0.15);\n",
              "      fill: #174EA6;\n",
              "    }\n",
              "\n",
              "    [theme=dark] .colab-df-convert {\n",
              "      background-color: #3B4455;\n",
              "      fill: #D2E3FC;\n",
              "    }\n",
              "\n",
              "    [theme=dark] .colab-df-convert:hover {\n",
              "      background-color: #434B5C;\n",
              "      box-shadow: 0px 1px 3px 1px rgba(0, 0, 0, 0.15);\n",
              "      filter: drop-shadow(0px 1px 2px rgba(0, 0, 0, 0.3));\n",
              "      fill: #FFFFFF;\n",
              "    }\n",
              "  </style>\n",
              "\n",
              "      <script>\n",
              "        const buttonEl =\n",
              "          document.querySelector('#df-1c0066c8-c5af-4ac2-8927-23223798d7c0 button.colab-df-convert');\n",
              "        buttonEl.style.display =\n",
              "          google.colab.kernel.accessAllowed ? 'block' : 'none';\n",
              "\n",
              "        async function convertToInteractive(key) {\n",
              "          const element = document.querySelector('#df-1c0066c8-c5af-4ac2-8927-23223798d7c0');\n",
              "          const dataTable =\n",
              "            await google.colab.kernel.invokeFunction('convertToInteractive',\n",
              "                                                     [key], {});\n",
              "          if (!dataTable) return;\n",
              "\n",
              "          const docLinkHtml = 'Like what you see? Visit the ' +\n",
              "            '<a target=\"_blank\" href=https://colab.research.google.com/notebooks/data_table.ipynb>data table notebook</a>'\n",
              "            + ' to learn more about interactive tables.';\n",
              "          element.innerHTML = '';\n",
              "          dataTable['output_type'] = 'display_data';\n",
              "          await google.colab.output.renderOutput(dataTable, element);\n",
              "          const docLink = document.createElement('div');\n",
              "          docLink.innerHTML = docLinkHtml;\n",
              "          element.appendChild(docLink);\n",
              "        }\n",
              "      </script>\n",
              "    </div>\n",
              "  </div>\n",
              "  "
            ]
          },
          "metadata": {},
          "execution_count": 193
        }
      ]
    },
    {
      "cell_type": "code",
      "source": [
        "#train data prediction\n",
        "model=LinearRegression()\n",
        "model.fit(X_train, y_train)\n",
        "y_lin_train=model.predict(X_train)"
      ],
      "metadata": {
        "id": "12RDQWZ3D5uU"
      },
      "execution_count": 194,
      "outputs": []
    },
    {
      "cell_type": "code",
      "source": [
        "#train model params\n",
        "model.coef_"
      ],
      "metadata": {
        "colab": {
          "base_uri": "https://localhost:8080/"
        },
        "id": "3s9c9IscGRs7",
        "outputId": "4a02a1d4-f4b1-4e51-9e39-0b06681a5aaf"
      },
      "execution_count": 195,
      "outputs": [
        {
          "output_type": "execute_result",
          "data": {
            "text/plain": [
              "array([ 142.51320021, -479.86751567, 1138.27256752,   66.20877515,\n",
              "       -315.52661843,  -69.56287138,   21.68287323])"
            ]
          },
          "metadata": {},
          "execution_count": 195
        }
      ]
    },
    {
      "cell_type": "code",
      "source": [
        "model.intercept_"
      ],
      "metadata": {
        "colab": {
          "base_uri": "https://localhost:8080/"
        },
        "id": "MAQ6K48pG1H6",
        "outputId": "8f4fb8ab-f46d-4d8d-d55b-cd4a78022a8b"
      },
      "execution_count": 196,
      "outputs": [
        {
          "output_type": "execute_result",
          "data": {
            "text/plain": [
              "7847.735426119911"
            ]
          },
          "metadata": {},
          "execution_count": 196
        }
      ]
    },
    {
      "cell_type": "code",
      "source": [
        "#test data prediction\n",
        "model2=LinearRegression()\n",
        "model2.fit(X_test, y_test)\n",
        "y_lin_test=model2.predict(X_test)"
      ],
      "metadata": {
        "id": "GaMB25q1F-Fq"
      },
      "execution_count": 197,
      "outputs": []
    },
    {
      "cell_type": "code",
      "source": [
        "#test model params\n",
        "model2.coef_"
      ],
      "metadata": {
        "colab": {
          "base_uri": "https://localhost:8080/"
        },
        "id": "wjEklYTxK6KV",
        "outputId": "e200a2b5-512f-4f28-e6c5-34b35f2ef8d0"
      },
      "execution_count": 198,
      "outputs": [
        {
          "output_type": "execute_result",
          "data": {
            "text/plain": [
              "array([ 726.60849484, -493.18410489,  762.06581007,   70.78803277,\n",
              "       -446.33828859,  126.01635901,  -40.54196096])"
            ]
          },
          "metadata": {},
          "execution_count": 198
        }
      ]
    },
    {
      "cell_type": "code",
      "source": [
        "model2.intercept_"
      ],
      "metadata": {
        "colab": {
          "base_uri": "https://localhost:8080/"
        },
        "id": "O4yMT2ZvLEGF",
        "outputId": "1f9feb2b-19c0-4c98-b401-4f701ee29a65"
      },
      "execution_count": 199,
      "outputs": [
        {
          "output_type": "execute_result",
          "data": {
            "text/plain": [
              "7795.28707787179"
            ]
          },
          "metadata": {},
          "execution_count": 199
        }
      ]
    },
    {
      "cell_type": "code",
      "source": [
        "#r2 score\n",
        "from sklearn.metrics import r2_score\n",
        "r2_score( y_test, y_lin_test)"
      ],
      "metadata": {
        "colab": {
          "base_uri": "https://localhost:8080/"
        },
        "id": "r8LA1VlsLVjG",
        "outputId": "ceba1050-e81c-4648-c408-6203d7bc6080"
      },
      "execution_count": 200,
      "outputs": [
        {
          "output_type": "execute_result",
          "data": {
            "text/plain": [
              "0.47257255377885954"
            ]
          },
          "metadata": {},
          "execution_count": 200
        }
      ]
    },
    {
      "cell_type": "code",
      "source": [
        "#r2 score\n",
        "r2_score(y_train, y_lin_train)"
      ],
      "metadata": {
        "colab": {
          "base_uri": "https://localhost:8080/"
        },
        "id": "zVOUBZ3TLlAJ",
        "outputId": "51ad938d-8ca9-43a1-9aa5-d9409f0d49a4"
      },
      "execution_count": 202,
      "outputs": [
        {
          "output_type": "execute_result",
          "data": {
            "text/plain": [
              "0.42004478786372823"
            ]
          },
          "metadata": {},
          "execution_count": 202
        }
      ]
    },
    {
      "cell_type": "code",
      "source": [
        "#MSE - train\n",
        "from sklearn.metrics import mean_squared_error\n",
        "mean_squared_error(y_train, y_lin_train)"
      ],
      "metadata": {
        "colab": {
          "base_uri": "https://localhost:8080/"
        },
        "id": "KNFBB7tDYhvv",
        "outputId": "96d58081-625e-465d-e46d-7bd730278664"
      },
      "execution_count": 203,
      "outputs": [
        {
          "output_type": "execute_result",
          "data": {
            "text/plain": [
              "5144040.121435616"
            ]
          },
          "metadata": {},
          "execution_count": 203
        }
      ]
    },
    {
      "cell_type": "code",
      "source": [
        "#MSE - test\n",
        "mean_squared_error(y_test, y_lin_test)"
      ],
      "metadata": {
        "colab": {
          "base_uri": "https://localhost:8080/"
        },
        "id": "2vxYnzVuYqyq",
        "outputId": "48acc4c9-25b9-46c2-951e-186f18c42adc"
      },
      "execution_count": 205,
      "outputs": [
        {
          "output_type": "execute_result",
          "data": {
            "text/plain": [
              "2855535.9940444008"
            ]
          },
          "metadata": {},
          "execution_count": 205
        }
      ]
    },
    {
      "cell_type": "code",
      "source": [
        "#MAPE - test\n",
        "from sklearn.metrics import mean_absolute_percentage_error\n",
        "mean_absolute_percentage_error(y_test, y_lin_test)"
      ],
      "metadata": {
        "colab": {
          "base_uri": "https://localhost:8080/"
        },
        "id": "SqCn_75AZFnq",
        "outputId": "3c4bf5c2-2bc4-4a15-aae7-3dac49f42f72"
      },
      "execution_count": 206,
      "outputs": [
        {
          "output_type": "execute_result",
          "data": {
            "text/plain": [
              "0.12913026002079683"
            ]
          },
          "metadata": {},
          "execution_count": 206
        }
      ]
    },
    {
      "cell_type": "code",
      "source": [
        "#MAPE - train\n",
        "mean_absolute_percentage_error(y_train, y_lin_train)"
      ],
      "metadata": {
        "colab": {
          "base_uri": "https://localhost:8080/"
        },
        "id": "WfvRZ08aZP4_",
        "outputId": "a2179c90-0629-46f3-ac94-33c3730f7746"
      },
      "execution_count": 207,
      "outputs": [
        {
          "output_type": "execute_result",
          "data": {
            "text/plain": [
              "0.16666319910591232"
            ]
          },
          "metadata": {},
          "execution_count": 207
        }
      ]
    }
  ]
}